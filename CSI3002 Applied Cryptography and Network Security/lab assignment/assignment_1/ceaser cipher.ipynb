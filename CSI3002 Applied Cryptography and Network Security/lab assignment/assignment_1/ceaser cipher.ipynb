{
 "cells": [
  {
   "cell_type": "code",
   "execution_count": 1,
   "id": "3ff61a3b",
   "metadata": {},
   "outputs": [],
   "source": [
    "def a2d(text):\n",
    "    return [ord(i) for i in text]"
   ]
  },
  {
   "cell_type": "code",
   "execution_count": 2,
   "id": "30d4ab23",
   "metadata": {},
   "outputs": [],
   "source": [
    "def encrpyt(text, key):\n",
    "    dtext = a2d(text)\n",
    "    result = []\n",
    "    for i in dtext:\n",
    "        if (i >= 65 and i <= 90):\n",
    "            result.append((((i - 65) + key) % 26) + 65)\n",
    "        elif(i >= 97 and i <= 122):\n",
    "            result.append((((i - 97) + key) % 26) + 97)\n",
    "        else:\n",
    "            result.append(i)\n",
    "    final = list(map(chr, result))\n",
    "    return ''.join(final)"
   ]
  },
  {
   "cell_type": "code",
   "execution_count": 3,
   "id": "589b246d",
   "metadata": {},
   "outputs": [],
   "source": [
    "def decrypt(text, key):\n",
    "    dtext = a2d(text)\n",
    "    result = []\n",
    "    for i in dtext:\n",
    "        if (i >= 65 and i <= 90):\n",
    "            result.append((((i - 65) - key) % 26) + 65)\n",
    "        elif(i >= 97 and i <= 122):\n",
    "            result.append((((i - 97) - key) % 26) + 97)\n",
    "        else:\n",
    "            result.append(i)\n",
    "    final = list(map(chr, result))\n",
    "    return ''.join(final)"
   ]
  },
  {
   "cell_type": "code",
   "execution_count": 4,
   "id": "539f48f4",
   "metadata": {},
   "outputs": [
    {
     "name": "stdout",
     "output_type": "stream",
     "text": [
      "Before encryption Plain text: prashanth\n",
      "Key: 23\n",
      "Cipher text : moxpexkqe\n",
      "After decryption Plain text : prashanth\n"
     ]
    }
   ],
   "source": [
    "if __name__ == '__main__':\n",
    "    text = input(\"Before encryption Plain text: \")\n",
    "    key = int(input(\"Key: \"))\n",
    "    \n",
    "    cipher = encrpyt(text, key)\n",
    "    print(\"Cipher text : {}\".format(cipher))\n",
    "    \n",
    "    plain = decrypt(cipher, key)\n",
    "    print(\"After decryption Plain text : {}\".format(plain))"
   ]
  },
  {
   "cell_type": "code",
   "execution_count": null,
   "id": "9584589c",
   "metadata": {},
   "outputs": [],
   "source": []
  }
 ],
 "metadata": {
  "kernelspec": {
   "display_name": "Python 3 (ipykernel)",
   "language": "python",
   "name": "python3"
  },
  "language_info": {
   "codemirror_mode": {
    "name": "ipython",
    "version": 3
   },
   "file_extension": ".py",
   "mimetype": "text/x-python",
   "name": "python",
   "nbconvert_exporter": "python",
   "pygments_lexer": "ipython3",
   "version": "3.9.7"
  }
 },
 "nbformat": 4,
 "nbformat_minor": 5
}
