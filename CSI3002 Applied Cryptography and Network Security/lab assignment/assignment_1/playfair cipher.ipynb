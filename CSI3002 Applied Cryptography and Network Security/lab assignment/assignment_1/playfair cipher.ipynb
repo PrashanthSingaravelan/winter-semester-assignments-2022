{
 "cells": [
  {
   "cell_type": "code",
   "execution_count": 1,
   "id": "68bd7787",
   "metadata": {},
   "outputs": [],
   "source": [
    "import string\n",
    "from collections import OrderedDict\n",
    "import numpy as np\n",
    "from ordered_set import OrderedSet"
   ]
  },
  {
   "cell_type": "code",
   "execution_count": 2,
   "id": "bd08609f",
   "metadata": {},
   "outputs": [],
   "source": [
    "def key_text_rule(key):\n",
    "    for j in range(len(key)):\n",
    "        for i in range(len(key)):\n",
    "            if ((i%2==0) and (i+1!=len(key))):\n",
    "                if ((key[i]) == (key[i+1])): \n",
    "                    near = i+1\n",
    "                    key = key[:near] + 'x' + key[near:]\n",
    "                    break\n",
    "\n",
    "    if (len(key)%2!=0):\n",
    "        key = key[:len(key)+1] + 'z'\n",
    "        return key\n",
    "    else:\n",
    "        return key"
   ]
  },
  {
   "cell_type": "code",
   "execution_count": 3,
   "id": "12316ab6",
   "metadata": {},
   "outputs": [],
   "source": [
    "def matrix_fill(key):\n",
    "    key = \"\".join(OrderedDict.fromkeys(key))  ## remove the repeated characters in the string\n",
    "    str1 = string.ascii_lowercase\n",
    "    for i in key:\n",
    "        if i in str1:\n",
    "            str1 = str1.replace(i,'')\n",
    "    str1 = str1.replace('j','')\n",
    "    matrix_elements = key + str1\n",
    "    \n",
    "    list1 = []\n",
    "    ind = 0\n",
    "    for i in range(5):\n",
    "        temp = []\n",
    "        for j in range(5):\n",
    "            temp.append(matrix_elements[ind])\n",
    "            ind+=1\n",
    "        list1.append(temp)\n",
    "        \n",
    "    return list1"
   ]
  },
  {
   "cell_type": "code",
   "execution_count": 4,
   "id": "b9b50f1d",
   "metadata": {},
   "outputs": [
    {
     "name": "stdout",
     "output_type": "stream",
     "text": [
      "monarchy\n",
      "instrumentsz\n"
     ]
    }
   ],
   "source": [
    "key = key_text_rule('monarchy')\n",
    "plain_text = key_text_rule('instruments')\n",
    "\n",
    "print(key)\n",
    "print(plain_text)"
   ]
  },
  {
   "cell_type": "code",
   "execution_count": 5,
   "id": "b544a081",
   "metadata": {},
   "outputs": [
    {
     "data": {
      "text/plain": [
       "[['m', 'o', 'n', 'a', 'r'],\n",
       " ['c', 'h', 'y', 'b', 'd'],\n",
       " ['e', 'f', 'g', 'i', 'k'],\n",
       " ['l', 'p', 'q', 's', 't'],\n",
       " ['u', 'v', 'w', 'x', 'z']]"
      ]
     },
     "execution_count": 5,
     "metadata": {},
     "output_type": "execute_result"
    }
   ],
   "source": [
    "matrix = matrix_fill(key)\n",
    "matrix"
   ]
  },
  {
   "cell_type": "markdown",
   "id": "c5e46240",
   "metadata": {},
   "source": [
    "## Encryption"
   ]
  },
  {
   "cell_type": "code",
   "execution_count": 6,
   "id": "c8c7a683",
   "metadata": {},
   "outputs": [],
   "source": [
    "def same_row_encrypt(ind1,ind2,ind3,ind4,matrix): ## Same 1st index(i.e i)\n",
    "    \n",
    "    ## loop\n",
    "    if (ind2==4 or ind4==4):\n",
    "        if (ind2==4):\n",
    "            ind2 = 0\n",
    "            print(matrix[ind1][ind2])\n",
    "            print(matrix[ind3][ind4+1])\n",
    "            \n",
    "        if (ind4==4):\n",
    "            ind4 = 0\n",
    "            print(matrix[ind1][ind2+1])\n",
    "            print(matrix[ind3][ind4])\n",
    "    \n",
    "    ## not a loop\n",
    "    else: \n",
    "        print(matrix[ind1][ind2+1])\n",
    "        print(matrix[ind3][ind4+1])"
   ]
  },
  {
   "cell_type": "code",
   "execution_count": 7,
   "id": "b6d3d3c3",
   "metadata": {},
   "outputs": [],
   "source": [
    "def same_col_encrypt(ind1,ind2,ind3,ind4,matrix): ## Same 2nd index(i.e j)\n",
    "    \n",
    "    ## loop\n",
    "    if (ind1==4 or ind3==4):\n",
    "        if (ind1==4):\n",
    "            ind1 = 0\n",
    "            print(matrix[ind1][ind2])\n",
    "            print(matrix[ind3+1][ind4])\n",
    "            \n",
    "        if (ind3==4):\n",
    "            ind3 = 0\n",
    "            print(matrix[ind1+1][ind2])\n",
    "            print(matrix[ind3][ind4])\n",
    "    \n",
    "    ## not a loop\n",
    "    else: \n",
    "        print(matrix[ind1+1][ind2])\n",
    "        print(matrix[ind3+1][ind4])"
   ]
  },
  {
   "cell_type": "code",
   "execution_count": 8,
   "id": "52e76594",
   "metadata": {},
   "outputs": [],
   "source": [
    "def diff(ind1,ind2,ind3,ind4,matrix):  ## Not in same row and same column\n",
    "    print(matrix[ind1][ind4])\n",
    "    print(matrix[ind3][ind2])"
   ]
  },
  {
   "cell_type": "code",
   "execution_count": 9,
   "id": "7257215e",
   "metadata": {},
   "outputs": [],
   "source": [
    "def check(i_index, j_index, matrix):\n",
    "    for ind in range(len(i_index)):\n",
    "        if ((ind%2==0) and ind!=len(i_index)):\n",
    "            \n",
    "            if (i_index[ind]==i_index[ind+1]): ## same i-value\n",
    "                same_row_encrypt(i_index[ind],j_index[ind],i_index[ind+1],j_index[ind+1],matrix)\n",
    "            \n",
    "            elif (j_index[ind]==j_index[ind+1]): ## same j-value\n",
    "                same_col_encrypt(i_index[ind],j_index[ind],i_index[ind+1],j_index[ind+1],matrix)    \n",
    "\n",
    "            else:\n",
    "                diff(i_index[ind],j_index[ind],i_index[ind+1],j_index[ind+1],matrix)"
   ]
  },
  {
   "cell_type": "code",
   "execution_count": 10,
   "id": "3182f897",
   "metadata": {},
   "outputs": [
    {
     "name": "stdout",
     "output_type": "stream",
     "text": [
      "Cipher text\n",
      "g\n",
      "a\n",
      "t\n",
      "l\n",
      "m\n",
      "z\n",
      "c\n",
      "l\n",
      "r\n",
      "q\n",
      "t\n",
      "x\n"
     ]
    }
   ],
   "source": [
    "i_index = []\n",
    "j_index = []\n",
    "\n",
    "for k in range(len(plain_text)):\n",
    "    if (k%2==0) and (k+1!=len(plain_text)):\n",
    "        word_1 = plain_text[k]\n",
    "        word_2 = plain_text[k+1]\n",
    "        \n",
    "        ## fiding the letters in the matrix\n",
    "        for i in range(5):\n",
    "            for j in range(5):\n",
    "                if ((word_1==matrix[i][j])):\n",
    "                    i_index.append(i)\n",
    "                    j_index.append(j)                        \n",
    "        \n",
    "        for i in range(5):\n",
    "            for j in range(5):\n",
    "                if ((word_2==matrix[i][j])):\n",
    "                    i_index.append(i)\n",
    "                    j_index.append(j)\n",
    "            \n",
    "print(\"Cipher text\")\n",
    "check(i_index, j_index,matrix)\n",
    "                    "
   ]
  },
  {
   "cell_type": "code",
   "execution_count": 11,
   "id": "c5372beb",
   "metadata": {},
   "outputs": [],
   "source": [
    "def index_fill(plain_text, matrix):\n",
    "    \n",
    "    i_index = []\n",
    "    j_index = []\n",
    "\n",
    "    for k in range(len(plain_text)):\n",
    "        if (k%2==0) and (k+1!=len(plain_text)):\n",
    "            word_1 = plain_text[k]\n",
    "            word_2 = plain_text[k+1]\n",
    "\n",
    "            ## fiding the letters in the matrix\n",
    "            for i in range(5):\n",
    "                for j in range(5):\n",
    "                    if ((word_1==matrix[i][j])):\n",
    "                        i_index.append(i)\n",
    "                        j_index.append(j)                        \n",
    "\n",
    "            for i in range(5):\n",
    "                for j in range(5):\n",
    "                    if ((word_2==matrix[i][j])):\n",
    "                        i_index.append(i)\n",
    "                        j_index.append(j)\n",
    "            \n",
    "    print(\"Cipher text\")\n",
    "    check(i_index, j_index,matrix)\n",
    "                    "
   ]
  },
  {
   "cell_type": "code",
   "execution_count": 12,
   "id": "cd77447d",
   "metadata": {},
   "outputs": [
    {
     "name": "stdout",
     "output_type": "stream",
     "text": [
      "g\n",
      "a\n",
      "t\n",
      "l\n",
      "m\n",
      "z\n",
      "c\n",
      "l\n",
      "r\n",
      "q\n",
      "x\n",
      "a\n"
     ]
    }
   ],
   "source": [
    "diff(2,3,0,2,matrix)     # (i,n) --> (a,g)\n",
    "same_row_encrypt(3,3,3,4,matrix) # (s,t) --> (t,l)\n",
    "diff(0,4,4,0,matrix)     # (r,u) --> (m,z)\n",
    "same_col_encrypt(0,0,2,0,matrix) # (m,e) --> (c,l)\n",
    "diff(0,2,3,4,matrix)     # (n,t) --> (r,q)\n",
    "same_col_encrypt(3,3,4,3,matrix) # (s,x) --> (x,a)"
   ]
  },
  {
   "cell_type": "markdown",
   "id": "a89caa63",
   "metadata": {},
   "source": [
    "## Decryption"
   ]
  },
  {
   "cell_type": "code",
   "execution_count": 13,
   "id": "14eac86c",
   "metadata": {},
   "outputs": [
    {
     "name": "stdout",
     "output_type": "stream",
     "text": [
      "monarchy\n",
      "gatlmzclrqtx\n"
     ]
    }
   ],
   "source": [
    "key = key_text_rule('monarchy')\n",
    "plain_text = key_text_rule('gatlmzclrqtx')\n",
    "\n",
    "print(key)\n",
    "print(plain_text)"
   ]
  },
  {
   "cell_type": "code",
   "execution_count": 14,
   "id": "f7f751e8",
   "metadata": {},
   "outputs": [
    {
     "data": {
      "text/plain": [
       "[['m', 'o', 'n', 'a', 'r'],\n",
       " ['c', 'h', 'y', 'b', 'd'],\n",
       " ['e', 'f', 'g', 'i', 'k'],\n",
       " ['l', 'p', 'q', 's', 't'],\n",
       " ['u', 'v', 'w', 'x', 'z']]"
      ]
     },
     "execution_count": 14,
     "metadata": {},
     "output_type": "execute_result"
    }
   ],
   "source": [
    "matrix = matrix_fill(key)\n",
    "matrix"
   ]
  },
  {
   "cell_type": "code",
   "execution_count": 15,
   "id": "d242c9b8",
   "metadata": {},
   "outputs": [],
   "source": [
    "def same_row_decrypt(ind1,ind2,ind3,ind4,matrix): ## Same 1st index(i.e i)\n",
    "    \n",
    "    print(end='')\n",
    "    \n",
    "    ## loop\n",
    "    if (ind2==0 or ind4==0):\n",
    "        if (ind2==0):\n",
    "            ind2 = 4\n",
    "            print(matrix[ind1][ind2])\n",
    "            print(matrix[ind3][ind4-1])\n",
    "            \n",
    "        if (ind4==0):\n",
    "            ind4 = 4\n",
    "            print(matrix[ind1][ind2-1])\n",
    "            print(matrix[ind3][ind4])\n",
    "    \n",
    "    ## not a loop\n",
    "    else: \n",
    "        print(matrix[ind1][ind2-1])\n",
    "        print(matrix[ind3][ind4-1])"
   ]
  },
  {
   "cell_type": "code",
   "execution_count": 16,
   "id": "ddff3a09",
   "metadata": {},
   "outputs": [],
   "source": [
    "def same_col_decrypt(ind1,ind2,ind3,ind4,matrix): ## Same 2nd index(i.e j)\n",
    "    print(end='')\n",
    "    \n",
    "    ## loop\n",
    "    if (ind1==0 or ind3==0):\n",
    "        if (ind1==0):\n",
    "            ind1 = 4\n",
    "            print(matrix[ind1][ind2])\n",
    "            print(matrix[ind3-1][ind4])\n",
    "            \n",
    "        if (ind3==0):\n",
    "            ind3 = 4\n",
    "            print(matrix[ind1-1][ind2])\n",
    "            print(matrix[ind3][ind4])\n",
    "    \n",
    "    ## not a loop\n",
    "    else: \n",
    "        print(matrix[ind1-1][ind2])\n",
    "        print(matrix[ind3-1][ind4])"
   ]
  },
  {
   "cell_type": "code",
   "execution_count": 17,
   "id": "5f5c1614",
   "metadata": {},
   "outputs": [],
   "source": [
    "def diff_decrypt(ind1,ind2,ind3,ind4,matrix):  ## Not in same row and same column\n",
    "    print(end='')\n",
    "    print(matrix[ind1][ind4])\n",
    "    print(matrix[ind3][ind2])"
   ]
  },
  {
   "cell_type": "code",
   "execution_count": 18,
   "id": "c2e9840d",
   "metadata": {},
   "outputs": [],
   "source": [
    "def check(i_index, j_index, matrix):\n",
    "    for ind in range(len(i_index)):\n",
    "        if ((ind%2==0) and ind!=len(i_index)):\n",
    "            \n",
    "            if (i_index[ind]==i_index[ind+1]): ## same i-value\n",
    "                same_row_decrypt(i_index[ind],j_index[ind],i_index[ind+1],j_index[ind+1],matrix)\n",
    "            \n",
    "            elif (j_index[ind]==j_index[ind+1]): ## same j-value\n",
    "                same_col_decrypt(i_index[ind],j_index[ind],i_index[ind+1],j_index[ind+1],matrix)    \n",
    "\n",
    "            else:\n",
    "                diff_decrypt(i_index[ind],j_index[ind],i_index[ind+1],j_index[ind+1],matrix)"
   ]
  },
  {
   "cell_type": "code",
   "execution_count": 19,
   "id": "a3114237",
   "metadata": {},
   "outputs": [
    {
     "name": "stdout",
     "output_type": "stream",
     "text": [
      "Plain text\n",
      "i\n",
      "n\n",
      "s\n",
      "t\n",
      "r\n",
      "u\n",
      "m\n",
      "e\n",
      "n\n",
      "t\n",
      "s\n",
      "z\n"
     ]
    }
   ],
   "source": [
    "i_index = []\n",
    "j_index = []\n",
    "\n",
    "for k in range(len(plain_text)):\n",
    "    if (k%2==0) and (k+1!=len(plain_text)):\n",
    "        word_1 = plain_text[k]\n",
    "        word_2 = plain_text[k+1]\n",
    "        \n",
    "        ## fiding the letters in the matrix\n",
    "        for i in range(5):\n",
    "            for j in range(5):\n",
    "                if ((word_1==matrix[i][j])):\n",
    "                    i_index.append(i)\n",
    "                    j_index.append(j)                        \n",
    "        \n",
    "        for i in range(5):\n",
    "            for j in range(5):\n",
    "                if ((word_2==matrix[i][j])):\n",
    "                    i_index.append(i)\n",
    "                    j_index.append(j)\n",
    "            \n",
    "print(\"Plain text\")\n",
    "check(i_index, j_index,matrix)\n",
    "                    "
   ]
  },
  {
   "cell_type": "code",
   "execution_count": null,
   "id": "08a5894e",
   "metadata": {},
   "outputs": [],
   "source": []
  },
  {
   "cell_type": "code",
   "execution_count": null,
   "id": "51b53f93",
   "metadata": {},
   "outputs": [],
   "source": []
  }
 ],
 "metadata": {
  "kernelspec": {
   "display_name": "Python 3 (ipykernel)",
   "language": "python",
   "name": "python3"
  },
  "language_info": {
   "codemirror_mode": {
    "name": "ipython",
    "version": 3
   },
   "file_extension": ".py",
   "mimetype": "text/x-python",
   "name": "python",
   "nbconvert_exporter": "python",
   "pygments_lexer": "ipython3",
   "version": "3.9.7"
  }
 },
 "nbformat": 4,
 "nbformat_minor": 5
}
