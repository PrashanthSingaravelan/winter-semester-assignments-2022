{
 "cells": [
  {
   "cell_type": "code",
   "execution_count": 1,
   "id": "d1dc2d48",
   "metadata": {},
   "outputs": [],
   "source": [
    "import string\n",
    "from collections import OrderedDict\n",
    "import numpy as np\n",
    "from ordered_set import OrderedSet\n",
    "import pymatrix"
   ]
  },
  {
   "cell_type": "markdown",
   "id": "d702f347",
   "metadata": {},
   "source": [
    "## Encryption"
   ]
  },
  {
   "cell_type": "code",
   "execution_count": 2,
   "id": "23dd3bbb",
   "metadata": {},
   "outputs": [],
   "source": [
    "def key_text_rule(key):\n",
    "    for j in range(len(key)):\n",
    "        for i in range(len(key)):\n",
    "            if ((i%2==0) and (i+1!=len(key))):\n",
    "                if ((key[i]) == (key[i+1])): \n",
    "                    near = i+1\n",
    "                    key = key[:near] + 'x' + key[near:]\n",
    "                    break\n",
    "\n",
    "    if (len(key)%2!=0):\n",
    "        key = key[:len(key)+1] + 'z'\n",
    "        return key\n",
    "    else:\n",
    "        return key"
   ]
  },
  {
   "cell_type": "code",
   "execution_count": 3,
   "id": "d7640bb8",
   "metadata": {},
   "outputs": [],
   "source": [
    "def text_to_matrix(dict1, text, n):\n",
    "    list1 = []\n",
    "    for i in text:\n",
    "        list1.append(dict1[i])\n",
    "\n",
    "    matrix = np.array(list1).reshape(n,n)\n",
    "    return matrix"
   ]
  },
  {
   "cell_type": "code",
   "execution_count": 4,
   "id": "dff2854f",
   "metadata": {},
   "outputs": [],
   "source": [
    "def encryption(small_dict, key, n):\n",
    "    key_matrix = text_to_matrix(small_dict, key, n)\n",
    "    key_matrix = np.matrix(key_matrix)\n",
    "    \n",
    "    main_encrypt_list = []\n",
    "\n",
    "    for i in range(len(plain_text)):\n",
    "        plain_list1 = []\n",
    "        if ((i%2==0) and (i<=len(plain_text))):\n",
    "\n",
    "            plain_list1.append(small_dict[plain_text[i]])\n",
    "            plain_list1.append(small_dict[plain_text[i+1]])\n",
    "\n",
    "            main_encrypt_list.append((np.dot(key_matrix, np.array(plain_list1).reshape(n,))) % 26)\n",
    "            \n",
    "    cipher_text = []\n",
    "    dict_keys=list(small_dict.keys()) \n",
    "\n",
    "    for i in main_encrypt_list:\n",
    "\n",
    "        val1 = i[0,0]\n",
    "        val2 = i[0,1]\n",
    "\n",
    "        cipher_text.append(dict_keys[val1])\n",
    "        cipher_text.append(dict_keys[val2])\n",
    "\n",
    "    cipher_text = ''.join(map(str,cipher_text))\n",
    "    return (cipher_text, key_matrix)"
   ]
  },
  {
   "cell_type": "markdown",
   "id": "ae7e48a8",
   "metadata": {},
   "source": [
    "## Decryption"
   ]
  },
  {
   "cell_type": "code",
   "execution_count": 5,
   "id": "e7c5bd49",
   "metadata": {},
   "outputs": [],
   "source": [
    "def gcd(a, b):\n",
    "    \n",
    "    if(b == 0):\n",
    "        return a\n",
    "    else:\n",
    "        return gcd(b, a % b)"
   ]
  },
  {
   "cell_type": "code",
   "execution_count": 6,
   "id": "19252336",
   "metadata": {},
   "outputs": [],
   "source": [
    "def modulo_multiplicative_inverse(key_matrix_det):\n",
    "    \n",
    "    if (gcd(key_matrix_det,26)==1):\n",
    "        \n",
    "        if (key_matrix_det>27):\n",
    "            key_matrix_det = key_matrix_det%26\n",
    "            \n",
    "        num = 1\n",
    "        while((key_matrix_det * num) % 26 !=1):\n",
    "            num+=1\n",
    "        \n",
    "        return num\n",
    "\n",
    "    else:\n",
    "        return 0 # GCD(det,26)!=1, then modulo multiplicative inverse --> Not found"
   ]
  },
  {
   "cell_type": "code",
   "execution_count": 7,
   "id": "fdf87ee0",
   "metadata": {},
   "outputs": [],
   "source": [
    "def decryption(cipher_text, key_matrix):\n",
    "\n",
    "    key_matrix_det = int(np.linalg.det(key_matrix))\n",
    "    one_by_det = modulo_multiplicative_inverse(key_matrix_det)\n",
    "    \n",
    "    if one_by_det:    \n",
    "        adj = (pymatrix.matrix(key_matrix.tolist())).adjoint()\n",
    "        ## converting into numpy and int array\n",
    "\n",
    "        key_matrix_adj = []\n",
    "        for i in range(n):\n",
    "            key_matrix_adj.append(adj[i])\n",
    "\n",
    "        key_matrix_adj = np.array(key_matrix_adj).astype(int)\n",
    "        key_matrix_adj\n",
    "\n",
    "        for i in key_matrix_adj:\n",
    "            if (i[0] < 0) : i[0] += 26\n",
    "            if (i[1] < 0) : i[1] += 26\n",
    "\n",
    "        key_inverse = key_matrix_adj * one_by_det\n",
    "\n",
    "        main_decrypt_list = []\n",
    "        for i in range(len(cipher_text)):\n",
    "\n",
    "            plain_list1 = []\n",
    "            if ((i%2==0) and (i<=len(cipher_text))):\n",
    "\n",
    "                plain_list1.append(small_dict[cipher_text[i]])\n",
    "                plain_list1.append(small_dict[cipher_text[i+1]])\n",
    "\n",
    "                main_decrypt_list.append(np.round(np.dot(key_inverse, np.array(plain_list1).reshape(n,))) % 26)\n",
    "\n",
    "        main_decrypt_list = np.int_(main_decrypt_list)\n",
    "\n",
    "        original_text = []\n",
    "\n",
    "        for i in main_decrypt_list:\n",
    "            dict_keys=list(small_dict.keys()) \n",
    "            original_text.append(dict_keys[i[0]])\n",
    "            original_text.append(dict_keys[i[1]])\n",
    "\n",
    "        original_text = ''.join(map(str,original_text))\n",
    "\n",
    "        return original_text\n",
    "    \n",
    "    else:\n",
    "        return \"GCD!=1, No Modulo Multiplicative Inverse\""
   ]
  },
  {
   "cell_type": "code",
   "execution_count": 8,
   "id": "bee90e99",
   "metadata": {},
   "outputs": [
    {
     "name": "stdout",
     "output_type": "stream",
     "text": [
      "welcomez\n"
     ]
    },
    {
     "ename": "ValueError",
     "evalue": "cannot reshape array of size 2 into shape (4,)",
     "output_type": "error",
     "traceback": [
      "\u001b[0;31m---------------------------------------------------------------------------\u001b[0m",
      "\u001b[0;31mValueError\u001b[0m                                Traceback (most recent call last)",
      "\u001b[0;32m/var/folders/gq/nsqxf83n1813yysq2l8vvtxc0000gn/T/ipykernel_5759/4192065775.py\u001b[0m in \u001b[0;36m<module>\u001b[0;34m\u001b[0m\n\u001b[1;32m     10\u001b[0m     \u001b[0mkey\u001b[0m \u001b[0;34m=\u001b[0m \u001b[0;34m'abcdefghijklmnop'\u001b[0m\u001b[0;34m\u001b[0m\u001b[0;34m\u001b[0m\u001b[0m\n\u001b[1;32m     11\u001b[0m \u001b[0;34m\u001b[0m\u001b[0m\n\u001b[0;32m---> 12\u001b[0;31m     \u001b[0mcipher_text\u001b[0m\u001b[0;34m,\u001b[0m \u001b[0mkey_matrix\u001b[0m \u001b[0;34m=\u001b[0m \u001b[0mencryption\u001b[0m\u001b[0;34m(\u001b[0m\u001b[0msmall_dict\u001b[0m\u001b[0;34m,\u001b[0m \u001b[0mkey\u001b[0m\u001b[0;34m,\u001b[0m \u001b[0mn\u001b[0m\u001b[0;34m)\u001b[0m\u001b[0;34m\u001b[0m\u001b[0;34m\u001b[0m\u001b[0m\n\u001b[0m\u001b[1;32m     13\u001b[0m     \u001b[0mplain_text_dec\u001b[0m \u001b[0;34m=\u001b[0m \u001b[0mdecryption\u001b[0m\u001b[0;34m(\u001b[0m\u001b[0mcipher_text\u001b[0m\u001b[0;34m,\u001b[0m\u001b[0mkey_matrix\u001b[0m\u001b[0;34m)\u001b[0m\u001b[0;34m\u001b[0m\u001b[0;34m\u001b[0m\u001b[0m\n",
      "\u001b[0;32m/var/folders/gq/nsqxf83n1813yysq2l8vvtxc0000gn/T/ipykernel_5759/992614898.py\u001b[0m in \u001b[0;36mencryption\u001b[0;34m(small_dict, key, n)\u001b[0m\n\u001b[1;32m     12\u001b[0m             \u001b[0mplain_list1\u001b[0m\u001b[0;34m.\u001b[0m\u001b[0mappend\u001b[0m\u001b[0;34m(\u001b[0m\u001b[0msmall_dict\u001b[0m\u001b[0;34m[\u001b[0m\u001b[0mplain_text\u001b[0m\u001b[0;34m[\u001b[0m\u001b[0mi\u001b[0m\u001b[0;34m+\u001b[0m\u001b[0;36m1\u001b[0m\u001b[0;34m]\u001b[0m\u001b[0;34m]\u001b[0m\u001b[0;34m)\u001b[0m\u001b[0;34m\u001b[0m\u001b[0;34m\u001b[0m\u001b[0m\n\u001b[1;32m     13\u001b[0m \u001b[0;34m\u001b[0m\u001b[0m\n\u001b[0;32m---> 14\u001b[0;31m             \u001b[0mmain_encrypt_list\u001b[0m\u001b[0;34m.\u001b[0m\u001b[0mappend\u001b[0m\u001b[0;34m(\u001b[0m\u001b[0;34m(\u001b[0m\u001b[0mnp\u001b[0m\u001b[0;34m.\u001b[0m\u001b[0mdot\u001b[0m\u001b[0;34m(\u001b[0m\u001b[0mkey_matrix\u001b[0m\u001b[0;34m,\u001b[0m \u001b[0mnp\u001b[0m\u001b[0;34m.\u001b[0m\u001b[0marray\u001b[0m\u001b[0;34m(\u001b[0m\u001b[0mplain_list1\u001b[0m\u001b[0;34m)\u001b[0m\u001b[0;34m.\u001b[0m\u001b[0mreshape\u001b[0m\u001b[0;34m(\u001b[0m\u001b[0mn\u001b[0m\u001b[0;34m,\u001b[0m\u001b[0;34m)\u001b[0m\u001b[0;34m)\u001b[0m\u001b[0;34m)\u001b[0m \u001b[0;34m%\u001b[0m \u001b[0;36m26\u001b[0m\u001b[0;34m)\u001b[0m\u001b[0;34m\u001b[0m\u001b[0;34m\u001b[0m\u001b[0m\n\u001b[0m\u001b[1;32m     15\u001b[0m \u001b[0;34m\u001b[0m\u001b[0m\n\u001b[1;32m     16\u001b[0m     \u001b[0mcipher_text\u001b[0m \u001b[0;34m=\u001b[0m \u001b[0;34m[\u001b[0m\u001b[0;34m]\u001b[0m\u001b[0;34m\u001b[0m\u001b[0;34m\u001b[0m\u001b[0m\n",
      "\u001b[0;31mValueError\u001b[0m: cannot reshape array of size 2 into shape (4,)"
     ]
    }
   ],
   "source": [
    "if __name__ == '__main__':\n",
    "\n",
    "    small_dict = dict()\n",
    "    for index, letter in enumerate(string.ascii_lowercase):\n",
    "           small_dict[letter] = index + 0\n",
    "            \n",
    "    plain_text = key_text_rule('welcome')\n",
    "    print(plain_text)\n",
    "    n = 4\n",
    "    key = 'abcdefghijklmnop'\n",
    "    \n",
    "    cipher_text, key_matrix = encryption(small_dict, key, n)\n",
    "    plain_text_dec = decryption(cipher_text,key_matrix)"
   ]
  },
  {
   "cell_type": "code",
   "execution_count": null,
   "id": "97f5c7f6",
   "metadata": {},
   "outputs": [],
   "source": [
    "cipher_text"
   ]
  },
  {
   "cell_type": "code",
   "execution_count": null,
   "id": "1aca921a",
   "metadata": {},
   "outputs": [],
   "source": [
    "plain_text_dec"
   ]
  },
  {
   "cell_type": "code",
   "execution_count": null,
   "id": "2105e46e",
   "metadata": {},
   "outputs": [],
   "source": []
  }
 ],
 "metadata": {
  "kernelspec": {
   "display_name": "Python 3 (ipykernel)",
   "language": "python",
   "name": "python3"
  },
  "language_info": {
   "codemirror_mode": {
    "name": "ipython",
    "version": 3
   },
   "file_extension": ".py",
   "mimetype": "text/x-python",
   "name": "python",
   "nbconvert_exporter": "python",
   "pygments_lexer": "ipython3",
   "version": "3.9.7"
  }
 },
 "nbformat": 4,
 "nbformat_minor": 5
}
