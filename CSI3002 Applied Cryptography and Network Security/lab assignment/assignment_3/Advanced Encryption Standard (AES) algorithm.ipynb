{
 "cells": [
  {
   "cell_type": "markdown",
   "id": "28a3acfe",
   "metadata": {},
   "source": [
    "## Importing the necessary libraries"
   ]
  },
  {
   "cell_type": "code",
   "execution_count": 1,
   "id": "1eb0b5c7",
   "metadata": {},
   "outputs": [],
   "source": [
    "import numpy as np\n",
    "import pandas as pd\n",
    "import ast"
   ]
  },
  {
   "cell_type": "markdown",
   "id": "e09b81f7",
   "metadata": {},
   "source": [
    "## Importing the tables\n",
    "### Encryption s-box"
   ]
  },
  {
   "cell_type": "code",
   "execution_count": 2,
   "id": "b59d3ce7",
   "metadata": {},
   "outputs": [
    {
     "data": {
      "text/html": [
       "<div>\n",
       "<style scoped>\n",
       "    .dataframe tbody tr th:only-of-type {\n",
       "        vertical-align: middle;\n",
       "    }\n",
       "\n",
       "    .dataframe tbody tr th {\n",
       "        vertical-align: top;\n",
       "    }\n",
       "\n",
       "    .dataframe thead th {\n",
       "        text-align: right;\n",
       "    }\n",
       "</style>\n",
       "<table border=\"1\" class=\"dataframe\">\n",
       "  <thead>\n",
       "    <tr style=\"text-align: right;\">\n",
       "      <th></th>\n",
       "      <th>0</th>\n",
       "      <th>1</th>\n",
       "      <th>2</th>\n",
       "      <th>3</th>\n",
       "      <th>4</th>\n",
       "      <th>5</th>\n",
       "      <th>6</th>\n",
       "      <th>7</th>\n",
       "      <th>8</th>\n",
       "      <th>9</th>\n",
       "      <th>a</th>\n",
       "      <th>b</th>\n",
       "      <th>c</th>\n",
       "      <th>d</th>\n",
       "      <th>e</th>\n",
       "      <th>f</th>\n",
       "    </tr>\n",
       "  </thead>\n",
       "  <tbody>\n",
       "    <tr>\n",
       "      <th>0</th>\n",
       "      <td>63</td>\n",
       "      <td>7c</td>\n",
       "      <td>77</td>\n",
       "      <td>7b</td>\n",
       "      <td>f2</td>\n",
       "      <td>6b</td>\n",
       "      <td>6f</td>\n",
       "      <td>c5</td>\n",
       "      <td>30</td>\n",
       "      <td>1</td>\n",
       "      <td>67</td>\n",
       "      <td>2b</td>\n",
       "      <td>fe</td>\n",
       "      <td>d7</td>\n",
       "      <td>ab</td>\n",
       "      <td>76</td>\n",
       "    </tr>\n",
       "    <tr>\n",
       "      <th>1</th>\n",
       "      <td>ca</td>\n",
       "      <td>82</td>\n",
       "      <td>c9</td>\n",
       "      <td>7d</td>\n",
       "      <td>fa</td>\n",
       "      <td>59</td>\n",
       "      <td>47</td>\n",
       "      <td>f0</td>\n",
       "      <td>ad</td>\n",
       "      <td>d4</td>\n",
       "      <td>a2</td>\n",
       "      <td>af</td>\n",
       "      <td>9c</td>\n",
       "      <td>a4</td>\n",
       "      <td>72</td>\n",
       "      <td>c0</td>\n",
       "    </tr>\n",
       "    <tr>\n",
       "      <th>2</th>\n",
       "      <td>b7</td>\n",
       "      <td>fd</td>\n",
       "      <td>93</td>\n",
       "      <td>26</td>\n",
       "      <td>36</td>\n",
       "      <td>3f</td>\n",
       "      <td>f7</td>\n",
       "      <td>cc</td>\n",
       "      <td>34</td>\n",
       "      <td>a5</td>\n",
       "      <td>e5</td>\n",
       "      <td>f1</td>\n",
       "      <td>71</td>\n",
       "      <td>d8</td>\n",
       "      <td>31</td>\n",
       "      <td>15</td>\n",
       "    </tr>\n",
       "    <tr>\n",
       "      <th>3</th>\n",
       "      <td>4</td>\n",
       "      <td>c7</td>\n",
       "      <td>23</td>\n",
       "      <td>c3</td>\n",
       "      <td>18</td>\n",
       "      <td>96</td>\n",
       "      <td>5</td>\n",
       "      <td>9a</td>\n",
       "      <td>7</td>\n",
       "      <td>12</td>\n",
       "      <td>80</td>\n",
       "      <td>e2</td>\n",
       "      <td>eb</td>\n",
       "      <td>27</td>\n",
       "      <td>b2</td>\n",
       "      <td>75</td>\n",
       "    </tr>\n",
       "    <tr>\n",
       "      <th>4</th>\n",
       "      <td>9</td>\n",
       "      <td>83</td>\n",
       "      <td>2c</td>\n",
       "      <td>1a</td>\n",
       "      <td>1b</td>\n",
       "      <td>6e</td>\n",
       "      <td>5a</td>\n",
       "      <td>a0</td>\n",
       "      <td>52</td>\n",
       "      <td>3b</td>\n",
       "      <td>d6</td>\n",
       "      <td>b3</td>\n",
       "      <td>29</td>\n",
       "      <td>e3</td>\n",
       "      <td>2f</td>\n",
       "      <td>84</td>\n",
       "    </tr>\n",
       "  </tbody>\n",
       "</table>\n",
       "</div>"
      ],
      "text/plain": [
       "    0   1   2   3   4   5   6   7   8   9   a   b   c   d   e   f\n",
       "0  63  7c  77  7b  f2  6b  6f  c5  30   1  67  2b  fe  d7  ab  76\n",
       "1  ca  82  c9  7d  fa  59  47  f0  ad  d4  a2  af  9c  a4  72  c0\n",
       "2  b7  fd  93  26  36  3f  f7  cc  34  a5  e5  f1  71  d8  31  15\n",
       "3   4  c7  23  c3  18  96   5  9a   7  12  80  e2  eb  27  b2  75\n",
       "4   9  83  2c  1a  1b  6e  5a  a0  52  3b  d6  b3  29  e3  2f  84"
      ]
     },
     "execution_count": 2,
     "metadata": {},
     "output_type": "execute_result"
    }
   ],
   "source": [
    "col_names  = ['0', '1', '2', '3', '4', '5', '6', '7', '8', '9', 'a', 'b', 'c', 'd', 'e', 'f']\n",
    "row_names = ['0', '1', '2', '3', '4', '5', '6', '7', '8', '9', 'a', 'b', 'c', 'd', 'e', 'f']\n",
    "\n",
    "enc_key_sbox = pd.read_excel('AES tables.xlsx', index_col=0)\n",
    "\n",
    "enc_key_sbox.columns = col_names ## replacing the column names \n",
    "enc_key_sbox.index = row_names    ## replacing the row names\n",
    "\n",
    "enc_key_sbox.head()"
   ]
  },
  {
   "cell_type": "code",
   "execution_count": 3,
   "id": "43cdf38c",
   "metadata": {},
   "outputs": [],
   "source": [
    "def text_hexadecimal(text): ## all the blocks --> 16bytes\n",
    "    hex_text   = []\n",
    "    for i in text: ## character -> ascii (decimal) -> hexa-decimal\n",
    "        hex_text.append(hex(ord(i))[2:])\n",
    "    return hex_text ## 16-byte representation of the text"
   ]
  },
  {
   "cell_type": "code",
   "execution_count": 4,
   "id": "3d67ef70",
   "metadata": {},
   "outputs": [
    {
     "name": "stdout",
     "output_type": "stream",
     "text": [
      "Hexadecimal Representation :  ['73', '61', '74', '69', '73', '68', '63', '6a', '69', '73', '62', '6f', '72', '69', '6e', '67']\n"
     ]
    }
   ],
   "source": [
    "key = 'satishcjisboring'  \n",
    "hex_key = text_hexadecimal(key)\n",
    "print(\"Hexadecimal Representation : \",hex_key)"
   ]
  },
  {
   "cell_type": "code",
   "execution_count": 5,
   "id": "536a1db9",
   "metadata": {},
   "outputs": [
    {
     "data": {
      "text/plain": [
       "[['73', '61', '74', '69'],\n",
       " ['73', '68', '63', '6a'],\n",
       " ['69', '73', '62', '6f'],\n",
       " ['72', '69', '6e', '67']]"
      ]
     },
     "execution_count": 5,
     "metadata": {},
     "output_type": "execute_result"
    }
   ],
   "source": [
    "## splitting into 4*4 matrix\n",
    "hex_key = [hex_key[i:i+4] for i in range(0, len(hex_key), 4)]\n",
    "hex_key"
   ]
  },
  {
   "cell_type": "markdown",
   "id": "80d7f7a6",
   "metadata": {},
   "source": [
    "## Key Generation"
   ]
  },
  {
   "cell_type": "code",
   "execution_count": 6,
   "id": "47d53c1b",
   "metadata": {},
   "outputs": [],
   "source": [
    "def key_sbox(element):\n",
    "    row_index = element[0]\n",
    "    col_index  = element[1]\n",
    "    ans = enc_key_sbox.loc[[row_index],[col_index]][col_index][0]\n",
    "    return str(ans)"
   ]
  },
  {
   "cell_type": "code",
   "execution_count": 7,
   "id": "cb80c7f2",
   "metadata": {},
   "outputs": [],
   "source": [
    "def binaryToDecimal(binary):\n",
    "    binary1 = binary\n",
    "    decimal, i, n = 0, 0, 0\n",
    "    \n",
    "    while(binary != 0):\n",
    "        dec = binary % 10\n",
    "        decimal = decimal + dec * pow(2, i)\n",
    "        binary = binary//10\n",
    "        i += 1\n",
    "        \n",
    "    hexadecimal =  hex(decimal)[-1]\n",
    "    return hexadecimal"
   ]
  },
  {
   "cell_type": "code",
   "execution_count": 8,
   "id": "1d818dc8",
   "metadata": {},
   "outputs": [],
   "source": [
    "def bcd_hexadecimal(bcd_list):\n",
    "    w4 = []\n",
    "    \n",
    "    for i in range(0,len(bcd_list),2):\n",
    "        temp_str = ' '\n",
    "        temp_str = binaryToDecimal(int(bcd_list[i]))\n",
    "        temp_str = temp_str + binaryToDecimal(int(bcd_list[i+1]))\n",
    "        w4.append(temp_str)\n",
    "        \n",
    "    return w4"
   ]
  },
  {
   "cell_type": "code",
   "execution_count": 9,
   "id": "18369d44",
   "metadata": {},
   "outputs": [],
   "source": [
    "def HexaDecimaltoBCD(str):\n",
    "    list1 = []\n",
    "    for i in range(len(str)):\n",
    "        decimal = int(str[i], 16)                                ## hexadecimal -> decimal\n",
    "        binary_num = bin(decimal).replace(\"0b\", \"\")  # decimal -> binary\n",
    "        list1.append(binary_num)\n",
    "            \n",
    "    ## binary in-terms of 4 bits\n",
    "    for i in range(len(list1)):\n",
    "        element = list1[i]\n",
    "        if len(element)<4:\n",
    "            diff = 4 - len(element)\n",
    "            for j in range(diff):\n",
    "                element = \"0\" + element\n",
    "            list1[i] = element\n",
    "            \n",
    "    return list1"
   ]
  },
  {
   "cell_type": "code",
   "execution_count": 10,
   "id": "40150681",
   "metadata": {},
   "outputs": [],
   "source": [
    "def Hexaword_BCD(list1):\n",
    "    bcd = [ HexaDecimaltoBCD(i) for i in list1 ]\n",
    "    bcd = list(np.concatenate(bcd).flat) ## 2d list to 1d list\n",
    "    return bcd"
   ]
  },
  {
   "cell_type": "code",
   "execution_count": 11,
   "id": "dc2cc12a",
   "metadata": {},
   "outputs": [],
   "source": [
    "## round-constant table \n",
    "## key-round and value-hexadecimal\n",
    "round_constant = {1:'1', 2:'2', 3:'4', 4:'8', 5:'10', 6:'20', 7:'40', 8:'80', 9:'1B', 10:'36'}"
   ]
  },
  {
   "cell_type": "code",
   "execution_count": 12,
   "id": "4329e5b4",
   "metadata": {},
   "outputs": [],
   "source": [
    "def key_generation():\n",
    "    total_keys = []\n",
    "    for i in range(1,10):\n",
    "        last_col = hex_key[-1]\n",
    "        rot_word = last_col[i:] + last_col[:i]\n",
    "        subword = [key_sbox(i) for i in rot_word]\n",
    "\n",
    "        break"
   ]
  },
  {
   "cell_type": "code",
   "execution_count": null,
   "id": "3fce8236",
   "metadata": {},
   "outputs": [],
   "source": []
  },
  {
   "cell_type": "code",
   "execution_count": null,
   "id": "d179016b",
   "metadata": {},
   "outputs": [],
   "source": []
  },
  {
   "cell_type": "code",
   "execution_count": null,
   "id": "f9a74fe7",
   "metadata": {},
   "outputs": [],
   "source": []
  },
  {
   "cell_type": "code",
   "execution_count": null,
   "id": "8b0d51e9",
   "metadata": {},
   "outputs": [],
   "source": []
  },
  {
   "cell_type": "code",
   "execution_count": null,
   "id": "5197a1bc",
   "metadata": {},
   "outputs": [],
   "source": []
  },
  {
   "cell_type": "code",
   "execution_count": null,
   "id": "e98eb69f",
   "metadata": {},
   "outputs": [],
   "source": []
  },
  {
   "cell_type": "code",
   "execution_count": null,
   "id": "302b31f0",
   "metadata": {},
   "outputs": [],
   "source": []
  },
  {
   "cell_type": "code",
   "execution_count": null,
   "id": "6e914d59",
   "metadata": {},
   "outputs": [],
   "source": []
  },
  {
   "cell_type": "code",
   "execution_count": 13,
   "id": "b2550c62",
   "metadata": {},
   "outputs": [
    {
     "data": {
      "text/plain": [
       "[['73', '61', '74', '69'],\n",
       " ['73', '68', '63', '6a'],\n",
       " ['69', '73', '62', '6f'],\n",
       " ['72', '69', '6e', '67']]"
      ]
     },
     "execution_count": 13,
     "metadata": {},
     "output_type": "execute_result"
    }
   ],
   "source": [
    "hex_key"
   ]
  },
  {
   "cell_type": "code",
   "execution_count": 14,
   "id": "c6860539",
   "metadata": {},
   "outputs": [
    {
     "data": {
      "text/plain": [
       "['72', '69', '6e', '67']"
      ]
     },
     "execution_count": 14,
     "metadata": {},
     "output_type": "execute_result"
    }
   ],
   "source": [
    "hex_key[-1]"
   ]
  },
  {
   "cell_type": "markdown",
   "id": "f0b083f5",
   "metadata": {},
   "source": [
    "## g function"
   ]
  },
  {
   "cell_type": "code",
   "execution_count": 15,
   "id": "19193104",
   "metadata": {},
   "outputs": [
    {
     "data": {
      "text/plain": [
       "['69', '6e', '67', '72']"
      ]
     },
     "execution_count": 15,
     "metadata": {},
     "output_type": "execute_result"
    }
   ],
   "source": [
    "last_col = hex_key[-1]\n",
    "rot_word = last_col[1:] + last_col[:1] ## rotating the words\n",
    "rot_word"
   ]
  },
  {
   "cell_type": "code",
   "execution_count": 16,
   "id": "41eb1840",
   "metadata": {},
   "outputs": [
    {
     "data": {
      "text/plain": [
       "['f9', '9f', '85', '40']"
      ]
     },
     "execution_count": 16,
     "metadata": {},
     "output_type": "execute_result"
    }
   ],
   "source": [
    "#enc_key_sbox.loc[[60],[9]]\n",
    "subword = [key_sbox(i) for i in rot_word]\n",
    "subword"
   ]
  },
  {
   "cell_type": "code",
   "execution_count": null,
   "id": "718d917f",
   "metadata": {},
   "outputs": [],
   "source": []
  },
  {
   "cell_type": "code",
   "execution_count": 17,
   "id": "dcbca4a1",
   "metadata": {},
   "outputs": [
    {
     "data": {
      "text/plain": [
       "['1111', '1001', '1001', '1111', '1000', '0101', '0100', '0000']"
      ]
     },
     "execution_count": 17,
     "metadata": {},
     "output_type": "execute_result"
    }
   ],
   "source": [
    "y1 = Hexaword_BCD(subword)\n",
    "y1"
   ]
  },
  {
   "cell_type": "code",
   "execution_count": 18,
   "id": "21e56595",
   "metadata": {},
   "outputs": [
    {
     "data": {
      "text/plain": [
       "['0000', '0000', '0000', '0000', '0000', '0000', '0000', '0000']"
      ]
     },
     "execution_count": 18,
     "metadata": {},
     "output_type": "execute_result"
    }
   ],
   "source": [
    "iteration = 1\n",
    "\n",
    "element = round_constant[iteration]\n",
    "initial = HexaDecimaltoBCD(element)\n",
    "initial_length = len(initial)\n",
    "\n",
    "if (initial_length == 1):\n",
    "    between = initial\n",
    "    temp_1 = [ [0 for j in range(4) for i in range(1)] ]\n",
    "    last = [ [0 for j in range(4)] for i in range(7) ]\n",
    "    between.extend(last)\n",
    "    temp_1.extend(last)\n",
    "    final = temp_1\n",
    "\n",
    "else:\n",
    "    last = [ [0 for j in range(4)] for i in range(6) ]\n",
    "    first = initial\n",
    "    first.extend(last)\n",
    "    \n",
    "final = [ \"\".join(list(map(str, i))) for i in final ]\n",
    "round_list = final\n",
    "\n",
    "round_list"
   ]
  },
  {
   "cell_type": "code",
   "execution_count": 19,
   "id": "4bfad4fc",
   "metadata": {},
   "outputs": [],
   "source": [
    "def XOR(list1, list2):\n",
    "    def compare(element1, element2):\n",
    "        ans = []\n",
    "        for i,j in zip(element1,element2):\n",
    "            if (i==j):ans.append(0)\n",
    "            else:ans.append(1)\n",
    "        return ans\n",
    "\n",
    "    main_ans = []\n",
    "    for i in range(len(list1)):\n",
    "        main_ans.append(compare(list1[i], list2[i]))\n",
    "    main_ans = [ \"\".join(list(map(str, i))) for i in main_ans ]\n",
    "    \n",
    "    return main_ans"
   ]
  },
  {
   "cell_type": "code",
   "execution_count": 20,
   "id": "56b89cd5",
   "metadata": {},
   "outputs": [
    {
     "name": "stdout",
     "output_type": "stream",
     "text": [
      "['1111', '1001', '1001', '1111', '1000', '0101', '0100', '0000']\n",
      "['0000', '0000', '0000', '0000', '0000', '0000', '0000', '0000']\n"
     ]
    }
   ],
   "source": [
    "print(y1)\n",
    "print(round_list)"
   ]
  },
  {
   "cell_type": "code",
   "execution_count": 21,
   "id": "b66c9968",
   "metadata": {},
   "outputs": [
    {
     "data": {
      "text/plain": [
       "['1111', '1001', '1001', '1111', '1000', '0101', '0100', '0000']"
      ]
     },
     "execution_count": 21,
     "metadata": {},
     "output_type": "execute_result"
    }
   ],
   "source": [
    "round_ans = XOR(y1, round_list)\n",
    "round_ans"
   ]
  },
  {
   "cell_type": "code",
   "execution_count": 22,
   "id": "56663197",
   "metadata": {},
   "outputs": [
    {
     "data": {
      "text/plain": [
       "['0111', '0011', '0110', '0001', '0111', '0100', '0110', '1001']"
      ]
     },
     "execution_count": 22,
     "metadata": {},
     "output_type": "execute_result"
    }
   ],
   "source": [
    "col1 = [HexaDecimaltoBCD(i) for i in hex_key[0] ]\n",
    "col1 = list(np.concatenate(col1).flat)\n",
    "col1"
   ]
  },
  {
   "cell_type": "code",
   "execution_count": 23,
   "id": "469e06b0",
   "metadata": {},
   "outputs": [
    {
     "data": {
      "text/plain": [
       "['1000', '1010', '1111', '1110', '1111', '0001', '0010', '1001']"
      ]
     },
     "execution_count": 23,
     "metadata": {},
     "output_type": "execute_result"
    }
   ],
   "source": [
    "ans = XOR(col1, round_ans) ## w4 = w0 + g(w3)\n",
    "ans"
   ]
  },
  {
   "cell_type": "code",
   "execution_count": 24,
   "id": "6d32cf66",
   "metadata": {},
   "outputs": [
    {
     "data": {
      "text/plain": [
       "['8a', 'fe', 'f1', '29']"
      ]
     },
     "execution_count": 24,
     "metadata": {},
     "output_type": "execute_result"
    }
   ],
   "source": [
    "w4 = bcd_hexadecimal(ans)\n",
    "w4"
   ]
  },
  {
   "cell_type": "code",
   "execution_count": 25,
   "id": "f14d04d7",
   "metadata": {},
   "outputs": [
    {
     "data": {
      "text/plain": [
       "'\\nround-1 [w4, w5, w6, w7]\\nround-2 [w8, w9, w10, w11]\\n. \\n.\\nround-10 [w40, w41, w42, w43]\\n'"
      ]
     },
     "execution_count": 25,
     "metadata": {},
     "output_type": "execute_result"
    }
   ],
   "source": [
    "'''\n",
    "round-1 [w4, w5, w6, w7]\n",
    "round-2 [w8, w9, w10, w11]\n",
    ". \n",
    ".\n",
    "round-10 [w40, w41, w42, w43]\n",
    "'''"
   ]
  },
  {
   "cell_type": "markdown",
   "id": "00be6c4d",
   "metadata": {},
   "source": [
    "## key loop (1 to 10)"
   ]
  },
  {
   "cell_type": "markdown",
   "id": "1d568ac4",
   "metadata": {},
   "source": [
    "### w5 = w4 exor w1_before"
   ]
  },
  {
   "cell_type": "code",
   "execution_count": 26,
   "id": "5f7196a1",
   "metadata": {},
   "outputs": [
    {
     "name": "stdout",
     "output_type": "stream",
     "text": [
      "w1 :  ['0111', '0011', '0110', '1000', '0110', '0011', '0110', '1010']\n",
      "w4 :  ['1000', '1010', '1111', '1110', '1111', '0001', '0010', '1001']\n",
      "ans :  ['1111', '1001', '1001', '0110', '1001', '0010', '0100', '0011']\n",
      "w5 :  ['f9', '96', '92', '43']\n"
     ]
    }
   ],
   "source": [
    "col1_before = Hexaword_BCD(hex_key[1])\n",
    "col1 = Hexaword_BCD(w4)  ## w0 exor g(w3)\n",
    "\n",
    "print(\"w1 : \" ,col1_before)\n",
    "print(\"w4 : \" ,col1)\n",
    "\n",
    "col2 = XOR(col1_before, col1)\n",
    "print(\"ans : \",col2)\n",
    "\n",
    "ans = bcd_hexadecimal(col2)\n",
    "print(\"w5 : \",ans)"
   ]
  },
  {
   "cell_type": "code",
   "execution_count": 30,
   "id": "611f421c",
   "metadata": {},
   "outputs": [
    {
     "data": {
      "text/plain": [
       "['0111', '0011', '0110', '1000', '0110', '0011', '0110', '1010']"
      ]
     },
     "execution_count": 30,
     "metadata": {},
     "output_type": "execute_result"
    }
   ],
   "source": [
    "col1_before"
   ]
  },
  {
   "cell_type": "code",
   "execution_count": 31,
   "id": "a34b76c7",
   "metadata": {},
   "outputs": [
    {
     "data": {
      "text/plain": [
       "['1000', '1010', '1111', '1110', '1111', '0001', '0010', '1001']"
      ]
     },
     "execution_count": 31,
     "metadata": {},
     "output_type": "execute_result"
    }
   ],
   "source": [
    "col1"
   ]
  },
  {
   "cell_type": "code",
   "execution_count": null,
   "id": "916f31b6",
   "metadata": {},
   "outputs": [],
   "source": []
  },
  {
   "cell_type": "code",
   "execution_count": null,
   "id": "36dd8405",
   "metadata": {},
   "outputs": [],
   "source": []
  },
  {
   "cell_type": "markdown",
   "id": "72e05dc1",
   "metadata": {},
   "source": [
    "### w6 = w5 exor w2_before"
   ]
  },
  {
   "cell_type": "code",
   "execution_count": 27,
   "id": "bb8a87e7",
   "metadata": {},
   "outputs": [
    {
     "name": "stdout",
     "output_type": "stream",
     "text": [
      "w2 :  ['0110', '1001', '0111', '0011', '0110', '0010', '0110', '1111']\n",
      "w5 :  ['1111', '1001', '1001', '0110', '1001', '0010', '0100', '0011']\n",
      "ans :  ['1111', '1001', '1001', '0110', '1001', '0010', '0100', '0011']\n",
      "w6 :  ['90', 'e5', 'f0', '2c']\n"
     ]
    }
   ],
   "source": [
    "col2_before = Hexaword_BCD(hex_key[2])\n",
    "\n",
    "print(\"w2 : \" ,col2_before)\n",
    "print(\"w5 : \" ,col2)\n",
    "\n",
    "col3 = XOR(col2_before, col2)\n",
    "print(\"ans : \",col2)\n",
    "\n",
    "ans = bcd_hexadecimal(col3)\n",
    "print(\"w6 : \",ans)"
   ]
  },
  {
   "cell_type": "markdown",
   "id": "ccc262a6",
   "metadata": {},
   "source": [
    "### w7 = w6 exor w3_before"
   ]
  },
  {
   "cell_type": "code",
   "execution_count": 28,
   "id": "d7c89bc0",
   "metadata": {},
   "outputs": [
    {
     "name": "stdout",
     "output_type": "stream",
     "text": [
      "w3 :  ['0111', '0010', '0110', '1001', '0110', '1110', '0110', '0111']\n",
      "w5 :  ['1001', '0000', '1110', '0101', '1111', '0000', '0010', '1100']\n",
      "ans :  ['1110', '0010', '1000', '1100', '1001', '1110', '0100', '1011']\n",
      "w5 :  ['e2', '8c', '9e', '4b']\n"
     ]
    }
   ],
   "source": [
    "col3_before = Hexaword_BCD(hex_key[3])\n",
    "\n",
    "print(\"w3 : \" ,col3_before)\n",
    "print(\"w5 : \" ,col3)\n",
    "\n",
    "col4 = XOR(col3_before, col3)\n",
    "print(\"ans : \",col4)\n",
    "\n",
    "ans = bcd_hexadecimal(col4)\n",
    "print(\"w5 : \",ans)"
   ]
  },
  {
   "cell_type": "code",
   "execution_count": null,
   "id": "ee0a6110",
   "metadata": {},
   "outputs": [],
   "source": []
  },
  {
   "cell_type": "code",
   "execution_count": null,
   "id": "53a19594",
   "metadata": {},
   "outputs": [],
   "source": []
  },
  {
   "cell_type": "code",
   "execution_count": 29,
   "id": "3ff6e946",
   "metadata": {},
   "outputs": [
    {
     "ename": "SyntaxError",
     "evalue": "invalid syntax (606241682.py, line 4)",
     "output_type": "error",
     "traceback": [
      "\u001b[0;36m  File \u001b[0;32m\"/var/folders/gq/nsqxf83n1813yysq2l8vvtxc0000gn/T/ipykernel_2264/606241682.py\"\u001b[0;36m, line \u001b[0;32m4\u001b[0m\n\u001b[0;31m    for j in range(1,4) ## each loop, 3 times running ( remaining 3 words)\u001b[0m\n\u001b[0m                        ^\u001b[0m\n\u001b[0;31mSyntaxError\u001b[0m\u001b[0;31m:\u001b[0m invalid syntax\n"
     ]
    }
   ],
   "source": [
    "for i in range(1,10): ## 10 times running\n",
    "    ## 1st word = col_before[0] (exor) g(col_before[-1]) \n",
    "    \n",
    "    for j in range(1,4) ## each loop, 3 times running ( remaining 3 words)"
   ]
  },
  {
   "cell_type": "code",
   "execution_count": null,
   "id": "c634cf95",
   "metadata": {},
   "outputs": [],
   "source": []
  },
  {
   "cell_type": "code",
   "execution_count": null,
   "id": "dd422981",
   "metadata": {},
   "outputs": [],
   "source": []
  },
  {
   "cell_type": "code",
   "execution_count": null,
   "id": "76e297fa",
   "metadata": {},
   "outputs": [],
   "source": []
  },
  {
   "cell_type": "code",
   "execution_count": null,
   "id": "ade61a59",
   "metadata": {},
   "outputs": [],
   "source": []
  },
  {
   "cell_type": "code",
   "execution_count": null,
   "id": "8991f8aa",
   "metadata": {},
   "outputs": [],
   "source": []
  },
  {
   "cell_type": "code",
   "execution_count": null,
   "id": "7bb3965b",
   "metadata": {},
   "outputs": [],
   "source": [
    "j = 2"
   ]
  },
  {
   "cell_type": "code",
   "execution_count": null,
   "id": "05dfe04f",
   "metadata": {},
   "outputs": [],
   "source": [
    "\"col\" + str(j) + \"_before\""
   ]
  },
  {
   "cell_type": "code",
   "execution_count": null,
   "id": "4ce353d6",
   "metadata": {},
   "outputs": [],
   "source": []
  },
  {
   "cell_type": "code",
   "execution_count": null,
   "id": "31261c2c",
   "metadata": {},
   "outputs": [],
   "source": [
    "sbox[2][3]"
   ]
  },
  {
   "cell_type": "code",
   "execution_count": null,
   "id": "8d22d899",
   "metadata": {},
   "outputs": [],
   "source": []
  },
  {
   "cell_type": "code",
   "execution_count": null,
   "id": "e7fcf125",
   "metadata": {},
   "outputs": [],
   "source": []
  },
  {
   "cell_type": "code",
   "execution_count": null,
   "id": "3bcfc728",
   "metadata": {},
   "outputs": [],
   "source": []
  },
  {
   "cell_type": "code",
   "execution_count": null,
   "id": "6189e255",
   "metadata": {},
   "outputs": [],
   "source": []
  },
  {
   "cell_type": "code",
   "execution_count": null,
   "id": "c50c01e5",
   "metadata": {},
   "outputs": [],
   "source": [
    "'''\n",
    "total_keys = []\n",
    "for i in range(1,10):\n",
    "    last_col = hex_key[-1]\n",
    "    rot_word = last_col[1:] + last_col[:1]\n",
    "    subword = [key_sbox(i) for i in rot_word]\n",
    "'''"
   ]
  },
  {
   "cell_type": "code",
   "execution_count": null,
   "id": "0fcffd39",
   "metadata": {},
   "outputs": [],
   "source": [
    "\n"
   ]
  },
  {
   "cell_type": "code",
   "execution_count": null,
   "id": "0fe97594",
   "metadata": {},
   "outputs": [],
   "source": []
  },
  {
   "cell_type": "code",
   "execution_count": null,
   "id": "4d0c7035",
   "metadata": {},
   "outputs": [],
   "source": [
    "# Python3 program to convert the given\n",
    "# HexaDecimal number to its equivalent BCD\n",
    "\n",
    "# Function to convert\n",
    "# Haxadecimal to BCD\n",
    "def HexaDecimaltoBCD(str):\n",
    "\n",
    "\t# Iterating through the digits\n",
    "\tfor i in range(len(str)):\n",
    "\t\t\n",
    "\t\t# Conversion into equivalent BCD\n",
    "\t\tdecimal = int(str[i], 16)\n",
    "\t\tbinary_num = bin(decimal).replace(\"0b\", \"\")\n",
    "\t\tprint(binary_num)\n",
    "\n",
    "# Driver code\n",
    "str = \"1B\"\n",
    "\n",
    "# Function call\n",
    "HexaDecimaltoBCD(str)\n",
    "\n",
    "# This code is contributed by himanshu77\n"
   ]
  },
  {
   "cell_type": "code",
   "execution_count": null,
   "id": "31f350ce",
   "metadata": {},
   "outputs": [],
   "source": []
  }
 ],
 "metadata": {
  "kernelspec": {
   "display_name": "Python 3.9.7 ('base')",
   "language": "python",
   "name": "python397jvsc74a57bd0b7a2a0b4f94735ea31e77398a02d224ee82f8658043a15390cdd4e6a2ed959b7"
  },
  "language_info": {
   "codemirror_mode": {
    "name": "ipython",
    "version": 3
   },
   "file_extension": ".py",
   "mimetype": "text/x-python",
   "name": "python",
   "nbconvert_exporter": "python",
   "pygments_lexer": "ipython3",
   "version": "3.9.7"
  }
 },
 "nbformat": 4,
 "nbformat_minor": 5
}
