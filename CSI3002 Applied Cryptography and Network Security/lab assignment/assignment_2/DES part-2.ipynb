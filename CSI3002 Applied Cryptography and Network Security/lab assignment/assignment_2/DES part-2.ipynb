{
 "cells": [
  {
   "cell_type": "code",
   "execution_count": 1,
   "id": "05c2a9ce",
   "metadata": {},
   "outputs": [],
   "source": [
    "def display_6(list1):\n",
    "    for i in range(len(list1)):\n",
    "        if (i%6==0 and i!=0):\n",
    "            print(\"   \",end='')\n",
    "        print(list1[i],end='')"
   ]
  },
  {
   "cell_type": "code",
   "execution_count": 2,
   "id": "41475310",
   "metadata": {},
   "outputs": [],
   "source": [
    "def display_7(list1):\n",
    "    for i in range(len(list1)):\n",
    "        if (i%7==0 and i!=0):\n",
    "            print(\"   \",end='')\n",
    "        print(list1[i],end='')"
   ]
  },
  {
   "cell_type": "code",
   "execution_count": 3,
   "id": "898a0540",
   "metadata": {},
   "outputs": [],
   "source": [
    "def display_8(list1):\n",
    "    for i in range(len(list1)):\n",
    "        if (i%9==0):\n",
    "            print(\"   \",end='')\n",
    "        else:\n",
    "            print(list1[i],end='')"
   ]
  },
  {
   "cell_type": "code",
   "execution_count": 4,
   "id": "4b665c5a",
   "metadata": {},
   "outputs": [],
   "source": [
    "def left_right_split(matrix, cnt):\n",
    "    left_str  = matrix[:cnt]\n",
    "    right_str = matrix[cnt:]\n",
    "    \n",
    "    return (left_str, right_str)"
   ]
  },
  {
   "cell_type": "markdown",
   "id": "07b4b865",
   "metadata": {},
   "source": [
    "# Plain Text - part"
   ]
  },
  {
   "cell_type": "markdown",
   "id": "f85bb0cd",
   "metadata": {},
   "source": [
    "## Initial Permutation --> For 64 bits plain text"
   ]
  },
  {
   "cell_type": "code",
   "execution_count": 5,
   "id": "355d4c33",
   "metadata": {},
   "outputs": [],
   "source": [
    "def initial_permutation(elements):\n",
    "    \n",
    "    ## input  --> 64bits\n",
    "    ## output --> 64bits\n",
    "    \n",
    "    ## initial_perm_matrix --> 1 to 64 bits\n",
    "    ## 64bit plain text    --> 0 to 63 bits\n",
    "    \n",
    "    str_permutation_matrix = [58, 50, 42, 34, 26, 18, 10, 2,\n",
    "                              60, 52, 44, 36, 28, 20, 12, 4,\n",
    "                              62, 54, 46, 38, 30, 22, 14, 6,\n",
    "                              64, 56, 48, 40, 32, 24, 16, 8,\n",
    "                              57, 49, 41, 33, 25, 17, 9, 1,\n",
    "                              59, 51, 43, 35, 27, 19, 11, 3,\n",
    "                              61, 53, 45, 37, 29, 21, 13, 5,\n",
    "                              63, 55, 47, 39, 31, 23, 15, 7]\n",
    "\n",
    "    permuted_matrix = [0 for i in range(64)]\n",
    "    for i in range(0, len(str_permutation_matrix)):\n",
    "        index              = str_permutation_matrix[i] - 1   ## so subtracting 1\n",
    "        permuted_matrix[i] = elements[index]\n",
    "        \n",
    "    return permuted_matrix"
   ]
  },
  {
   "cell_type": "markdown",
   "id": "f384d13f",
   "metadata": {},
   "source": [
    "## Expansion Permutation --> For 32 bits-bit Right 64bit-plain text"
   ]
  },
  {
   "cell_type": "code",
   "execution_count": 6,
   "id": "47ed54c9",
   "metadata": {},
   "outputs": [],
   "source": [
    "def expansion_permutation(elements):\n",
    "    \n",
    "    ## input(right_str) --> 32 bits\n",
    "    ## output           --> 48 bits\n",
    "    \n",
    "    ## initial_perm_matrix --> 1 to 64 bits\n",
    "    ## 64bit key           --> 0 to 63 bits\n",
    "    \n",
    "    expansion_matrix = [32, 1 , 2 , 3 , 4 , 5 , 4 , 5,\n",
    "                        6 , 7 , 8 , 9 , 8 , 9 , 10, 11,\n",
    "                        12, 13, 12, 13, 14, 15, 16, 17,\n",
    "                        16, 17, 18, 19, 20, 21, 20, 21,\n",
    "                        22, 23, 24, 25, 24, 25, 26, 27,\n",
    "                        28, 29, 28, 29, 30, 31, 32, 1 ]\n",
    "\n",
    "    expanded_matrix = [0 for i in range(48)]\n",
    "    \n",
    "    for i in range(0, len(expanded_matrix)):\n",
    "        index              = expansion_matrix[i] - 1\n",
    "        expanded_matrix[i] = elements[index]\n",
    "        \n",
    "    return expanded_matrix"
   ]
  },
  {
   "cell_type": "markdown",
   "id": "25c5bf14",
   "metadata": {},
   "source": [
    "# Key - part"
   ]
  },
  {
   "cell_type": "markdown",
   "id": "215cdf02",
   "metadata": {},
   "source": [
    "## Permuted Choice-1 --> For 64 bits key"
   ]
  },
  {
   "cell_type": "code",
   "execution_count": 7,
   "id": "20e3a72b",
   "metadata": {},
   "outputs": [],
   "source": [
    "def permuted_choice_1(elements): \n",
    "    \n",
    "    ## input -->  64 bits\n",
    "    ## output --> 56 bits\n",
    "    \n",
    "    ## initial_perm_matrix --> 1 to 64 bits\n",
    "    ## 64bit key           --> 0 to 63 bits\n",
    "    \n",
    "    key_permutation_matrix = [57, 49, 41, 33, 25, 17, 9,\n",
    "                               1, 58, 50, 42, 34, 26, 18,\n",
    "                              10, 2, 59, 51, 43, 35, 27,\n",
    "                              19, 11, 3, 60, 52, 44, 36,\n",
    "                              63, 55, 47, 39, 31, 23, 15,\n",
    "                               7, 62, 54, 46, 38, 30, 22,\n",
    "                              14, 6, 61, 53, 45, 37, 29,\n",
    "                              21, 13, 5, 28, 20, 12, 4 ]\n",
    "\n",
    "    permuted_matrix = [0 for i in range(56)]\n",
    "    \n",
    "    for i in range(0, len(key_permutation_matrix)):\n",
    "        index              = key_permutation_matrix[i] - 1\n",
    "        permuted_matrix[i] = elements[index]\n",
    "        \n",
    "    return permuted_matrix"
   ]
  },
  {
   "cell_type": "markdown",
   "id": "8ea5c702",
   "metadata": {},
   "source": [
    "## Permuted Choice-2 --> For 56 bits key"
   ]
  },
  {
   "cell_type": "code",
   "execution_count": 8,
   "id": "0b1fbb6b",
   "metadata": {},
   "outputs": [],
   "source": [
    "def permuted_choice_2(elements):\n",
    "    \n",
    "    ## left_str  --> 28 bits\n",
    "    ## right_str --> 28 bits\n",
    "    \n",
    "    ## input -->  56 bits\n",
    "    ## output --> 48 bits\n",
    "    \n",
    "    key_permutation_matrix = [14, 17, 11, 24, 1, 5,\n",
    "                              3, 28, 15, 6, 21, 10,\n",
    "                              23, 19, 12, 4, 26, 8,\n",
    "                              16, 7, 27, 20, 13, 2,\n",
    "                              41, 52, 31, 37, 47, 55,\n",
    "                              30, 40, 51, 45, 33, 48,\n",
    "                              44, 49, 39, 56, 34, 53,\n",
    "                              46, 42, 50, 36, 29, 32 ]\n",
    "    \n",
    "    permuted_matrix = [0 for i in range(48)]\n",
    "    \n",
    "    for i in range(0, len(key_permutation_matrix)):\n",
    "        index              = key_permutation_matrix[i] - 1\n",
    "        permuted_matrix[i] = elements[index]\n",
    "        \n",
    "    return permuted_matrix"
   ]
  },
  {
   "cell_type": "markdown",
   "id": "e06874f7",
   "metadata": {},
   "source": [
    "## XOR operation"
   ]
  },
  {
   "cell_type": "code",
   "execution_count": 9,
   "id": "7774128c",
   "metadata": {},
   "outputs": [],
   "source": [
    "def xor_operation(i,j):\n",
    "    if i!=j: return 1\n",
    "    else: return 0"
   ]
  },
  {
   "cell_type": "code",
   "execution_count": 10,
   "id": "27483ebb",
   "metadata": {},
   "outputs": [],
   "source": [
    "def xor(expansion_permutation_matrix, key_permuted_matrix_2):\n",
    "    \n",
    "    ## input -->  48 bits\n",
    "    ## output --> 48 bits\n",
    "    \n",
    "    list1 = []\n",
    "    for i,j in zip(expansion_permutation_matrix,key_permuted_matrix_2):\n",
    "        ans = xor_operation(i,j)\n",
    "        list1.append(ans)\n",
    "    return list1"
   ]
  },
  {
   "cell_type": "code",
   "execution_count": 11,
   "id": "5a61be11",
   "metadata": {},
   "outputs": [],
   "source": [
    "def binaryToDecimal(binary):\n",
    "    binary1 = binary\n",
    "    decimal, i, n = 0, 0, 0\n",
    "    \n",
    "    while(binary != 0):\n",
    "        dec = binary % 10\n",
    "        decimal = decimal + dec * pow(2, i)\n",
    "        binary = binary//10\n",
    "        i += 1\n",
    "        \n",
    "    return decimal"
   ]
  },
  {
   "cell_type": "markdown",
   "id": "d5cb5dc1",
   "metadata": {},
   "source": [
    "## S-Box"
   ]
  },
  {
   "cell_type": "code",
   "execution_count": 12,
   "id": "02e12527",
   "metadata": {},
   "outputs": [],
   "source": [
    "def s_box(xor_output):\n",
    "        \n",
    "    ## input -->  48 bits\n",
    "    ## output --> 32 bits\n",
    "    \n",
    "    sbox =  [\n",
    "         [[14, 4, 13, 1, 2, 15, 11, 8, 3, 10, 6, 12, 5, 9, 0, 7],\n",
    "          [ 0, 15, 7, 4, 14, 2, 13, 1, 10, 6, 12, 11, 9, 5, 3, 8],\n",
    "          [ 4, 1, 14, 8, 13, 6, 2, 11, 15, 12, 9, 7, 3, 10, 5, 0],\n",
    "          [15, 12, 8, 2, 4, 9, 1, 7, 5, 11, 3, 14, 10, 0, 6, 13 ]],\n",
    "            \n",
    "         [[15, 1, 8, 14, 6, 11, 3, 4, 9, 7, 2, 13, 12, 0, 5, 10],\n",
    "          [3, 13, 4, 7, 15, 2, 8, 14, 12, 0, 1, 10, 6, 9, 11, 5],\n",
    "          [0, 14, 7, 11, 10, 4, 13, 1, 5, 8, 12, 6, 9, 3, 2, 15],\n",
    "          [13, 8, 10, 1, 3, 15, 4, 2, 11, 6, 7, 12, 0, 5, 14, 9 ]],\n",
    "   \n",
    "          [[10, 0, 9, 14, 6, 3, 15, 5, 1, 13, 12, 7, 11, 4, 2, 8],\n",
    "           [13, 7, 0, 9, 3, 4, 6, 10, 2, 8, 5, 14, 12, 11, 15, 1],\n",
    "           [13, 6, 4, 9, 8, 15, 3, 0, 11, 1, 2, 12, 5, 10, 14, 7],\n",
    "           [1, 10, 13, 0, 6, 9, 8, 7, 4, 15, 14, 3, 11, 5, 2, 12 ]],\n",
    "       \n",
    "          [[7, 13, 14, 3, 0, 6, 9, 10, 1, 2, 8, 5, 11, 12, 4, 15],\n",
    "           [13, 8, 11, 5, 6, 15, 0, 3, 4, 7, 2, 12, 1, 10, 14, 9],\n",
    "           [10, 6, 9, 0, 12, 11, 7, 13, 15, 1, 3, 14, 5, 2, 8, 4],\n",
    "           [3, 15, 0, 6, 10, 1, 13, 8, 9, 4, 5, 11, 12, 7, 2, 14]],\n",
    "        \n",
    "          [ [2, 12, 4, 1, 7, 10, 11, 6, 8, 5, 3, 15, 13, 0, 14, 9],\n",
    "           [14, 11, 2, 12, 4, 7, 13, 1, 5, 0, 15, 10, 3, 9, 8, 6],\n",
    "            [4, 2, 1, 11, 10, 13, 7, 8, 15, 9, 12, 5, 6, 3, 0, 14],\n",
    "           [11, 8, 12, 7, 1, 14, 2, 13, 6, 15, 0, 9, 10, 4, 5, 3 ]],\n",
    "       \n",
    "         [ [12, 1, 10, 15, 9, 2, 6, 8, 0, 13, 3, 4, 14, 7, 5, 11],\n",
    "           [10, 15, 4, 2, 7, 12, 9, 5, 6, 1, 13, 14, 0, 11, 3, 8],\n",
    "            [9, 14, 15, 5, 2, 8, 12, 3, 7, 0, 4, 10, 1, 13, 11, 6],\n",
    "            [4, 3, 2, 12, 9, 5, 15, 10, 11, 14, 1, 7, 6, 0, 8, 13] ],\n",
    "         \n",
    "          [ [4, 11, 2, 14, 15, 0, 8, 13, 3, 12, 9, 7, 5, 10, 6, 1],\n",
    "           [13, 0, 11, 7, 4, 9, 1, 10, 14, 3, 5, 12, 2, 15, 8, 6],\n",
    "            [1, 4, 11, 13, 12, 3, 7, 14, 10, 15, 6, 8, 0, 5, 9, 2],\n",
    "            [6, 11, 13, 8, 1, 4, 10, 7, 9, 5, 0, 15, 14, 2, 3, 12] ],\n",
    "        \n",
    "         [ [13, 2, 8, 4, 6, 15, 11, 1, 10, 9, 3, 14, 5, 0, 12, 7],\n",
    "            [1, 15, 13, 8, 10, 3, 7, 4, 12, 5, 6, 11, 0, 14, 9, 2],\n",
    "            [7, 11, 4, 1, 9, 12, 14, 2, 0, 6, 10, 13, 15, 3, 5, 8],\n",
    "            [2, 1, 14, 7, 4, 10, 8, 13, 15, 12, 9, 0, 3, 5, 6, 11]] \n",
    "        \n",
    "          ]\n",
    "    \n",
    "    list1 = []\n",
    "    \n",
    "    start_index = 0\n",
    "    end_index = 6\n",
    "    \n",
    "    box_index = 0\n",
    "    \n",
    "    for i in range(8): ## every 6 bits to each S-box (i.e 8 S-box's)\n",
    "        temp_list = []\n",
    "        s_bits = xor_output[start_index:end_index] \n",
    "        \n",
    "        row_binary = str(s_bits[0]) + str(s_bits[-1])  ## 1st and 6th bits (0th and 5th)\n",
    "        row_number = binaryToDecimal(int(row_binary))  ## binary to decimal\n",
    "        \n",
    "        col_binary = s_bits[1:5]                       ## 2nd, 3rd, 4th and 5th bits\n",
    "        col_binary = [str(int) for int in col_binary]  ## converting the int-list to string-list\n",
    "        col_binary = ''.join(col_binary)               ## join the string-list\n",
    "        col_number = binaryToDecimal(int(col_binary))  ## binary to decimal\n",
    "        \n",
    "        temp_sbox            = sbox[box_index]                       ## choosing the required box\n",
    "        decimal__table_value = temp_sbox[row_number][col_number]     ## with row, column searching box \n",
    "        temp_list.append(\"{0:b}\".format(decimal__table_value).zfill(4)) ## binary to decimal\n",
    "        \n",
    "        list1 = list1 + temp_list\n",
    "        \n",
    "        start_index += 6\n",
    "        end_index   += 6\n",
    "        box_index   += 1\n",
    "        \n",
    "    return list1"
   ]
  },
  {
   "cell_type": "markdown",
   "id": "487fe437",
   "metadata": {},
   "source": [
    "## Final Permutation"
   ]
  },
  {
   "cell_type": "code",
   "execution_count": 13,
   "id": "690c203b",
   "metadata": {},
   "outputs": [],
   "source": [
    "def final_permutation(s_box_output):\n",
    "    \n",
    "    ## input -->  32 bits\n",
    "    ## output --> 32 bits\n",
    "\n",
    "    final_perm = [16,  7, 20, 21, 29, 12, 28, 17,\n",
    "                  1, 15, 23, 26, 5, 18, 31, 10,\n",
    "                  2,  8, 24, 14, 32, 27,  3,  9,\n",
    "                  19, 13, 30,  6, 22, 11,  4, 25]\n",
    "    \n",
    "    permuted_matrix = [0 for i in range(32)]\n",
    "    \n",
    "    for i in range(0, len(final_perm)):\n",
    "        index              = final_perm[i] - 1\n",
    "        permuted_matrix[i] = s_box_output[index]\n",
    "        \n",
    "    return permuted_matrix"
   ]
  },
  {
   "cell_type": "markdown",
   "id": "63bf732e",
   "metadata": {},
   "source": [
    "## XOR operation"
   ]
  },
  {
   "cell_type": "code",
   "execution_count": 14,
   "id": "3fe0e75b",
   "metadata": {},
   "outputs": [],
   "source": [
    "def xor(final_permutation_output, left_str):\n",
    "    \n",
    "    ## input -->  32 bits\n",
    "    ## output --> 32 bits\n",
    "    \n",
    "    list1 = []\n",
    "    for i,j in zip(final_permutation_output,left_str):\n",
    "        ans = xor_operation(i,j)\n",
    "        list1.append(ans)\n",
    "    return list1"
   ]
  },
  {
   "cell_type": "markdown",
   "id": "3caef792",
   "metadata": {},
   "source": [
    "## Inverse Initial Permutation"
   ]
  },
  {
   "cell_type": "code",
   "execution_count": 15,
   "id": "2e99cf2f",
   "metadata": {},
   "outputs": [],
   "source": [
    "def pc1(table, key):\n",
    "    parityDropped = []\n",
    "    for i in table:\n",
    "        parityDropped.append(key[i - 1])\n",
    "    return parityDropped"
   ]
  },
  {
   "cell_type": "markdown",
   "id": "87634131",
   "metadata": {},
   "source": [
    "## Main Function"
   ]
  },
  {
   "cell_type": "code",
   "execution_count": 16,
   "id": "4dbbc5de",
   "metadata": {},
   "outputs": [
    {
     "name": "stdout",
     "output_type": "stream",
     "text": [
      "Given String length :  64\n",
      "Given Key length    :  64\n",
      "\n",
      "String :    00000010   10001101   00101011   01111000   00110101   11110011   11110111   \n",
      "Key    :    00100110   11010001   10111011   10011001   01110111   00110111   11111000   "
     ]
    }
   ],
   "source": [
    "## input from the user\n",
    "\n",
    "str1 = \"0000000100100011010001010110011110001001101010111100110111101111\"  ## 64 bits\n",
    "key  = \"0001001100110100010101110111100110011011101111001101111111110001\"  ## 64 bits\n",
    "\n",
    "\n",
    "print(\"Given String length : \",len(str1))\n",
    "print(\"Given Key length    : \",len(key))\n",
    "\n",
    "print(\"\\nString : \",end='')\n",
    "display_8(str1)\n",
    "\n",
    "print(\"\\nKey    : \",end='')\n",
    "display_8(key)"
   ]
  },
  {
   "cell_type": "code",
   "execution_count": 17,
   "id": "12aa138c",
   "metadata": {},
   "outputs": [
    {
     "name": "stdout",
     "output_type": "stream",
     "text": [
      "############################################### STRING ###############################################\n",
      "\n",
      "Initial Permutation\n",
      "\n",
      "Length :  64\n",
      "   10011000   00000011   01100111   11111111   00010101   10111100   01010101   \n",
      "\n",
      "\n",
      "Left String -->    10011000   00000011   01100111   1111\n",
      "Right String -->    11100001   10101011   10000101   1010\n",
      "\n",
      "expansion_permutation_matrix\n",
      "Length :  48\n",
      "   11110100   01010101   10101011   10100001   10101010   01"
     ]
    }
   ],
   "source": [
    "print(\"############################################### STRING ###############################################\")\n",
    "\n",
    "print(\"\\nInitial Permutation\")\n",
    "str_permuted_matrix = initial_permutation(str1)\n",
    "print(\"\\nLength : \",len(str_permuted_matrix))\n",
    "display_8(str_permuted_matrix)\n",
    "print(\"\\n\")\n",
    "\n",
    "## Splitting into left and right string\n",
    "left_str, right_str = left_right_split(str_permuted_matrix, 32)\n",
    "\n",
    "print(\"\\nLeft String --> \", end='')\n",
    "display_8(left_str)\n",
    "\n",
    "print(\"\\nRight String --> \", end='')\n",
    "display_8(right_str)\n",
    "\n",
    "## expansion permutation matrix [input -> right_str(32 bits) || output -> 32bits]\n",
    "expansion_permutation_matrix = expansion_permutation(right_str)\n",
    "print(\"\\n\\nexpansion_permutation_matrix\")\n",
    "print(\"Length : \",len(expansion_permutation_matrix))\n",
    "display_8(expansion_permutation_matrix)"
   ]
  },
  {
   "cell_type": "code",
   "execution_count": 18,
   "id": "67aa8577",
   "metadata": {},
   "outputs": [
    {
     "name": "stdout",
     "output_type": "stream",
     "text": [
      "\n",
      "############################################### KEY ###############################################\n",
      "\n",
      "Permuted Choice-1 Matrix-Key\n",
      "Length :  56\n",
      "1111000   0110011   0010101   0101111   0101010   1011001   1001111   0001111\n",
      "\n",
      "\n",
      "Left-Key --> 1111000   0110011   0010101   0101111\n",
      "Right-Key --> 0101010   1011001   1001111   0001111\n",
      "\n",
      "\n",
      "Permuted Choice-2 Matrix-Key\n",
      "Length :  48\n",
      "   10011010   10000010   01001111   10101110   10010001   11\n",
      "\n"
     ]
    }
   ],
   "source": [
    "print(\"\\n############################################### KEY ###############################################\")\n",
    "\n",
    "#### Permuted Choice-1\n",
    "key_permuted_matrix_1 = permuted_choice_1(key)\n",
    "print(\"\\nPermuted Choice-1 Matrix-Key\")\n",
    "print(\"Length : \",len(key_permuted_matrix_1))\n",
    "display_7(key_permuted_matrix_1)\n",
    "print(\"\\n\")\n",
    "\n",
    "#### Splitting into left and right key\n",
    "left_key, right_key = left_right_split(key_permuted_matrix_1,28)\n",
    "\n",
    "print(\"\\nLeft-Key --> \", end='')\n",
    "display_7(left_key)\n",
    "\n",
    "print(\"\\nRight-Key --> \", end='')\n",
    "display_7(right_key)\n",
    "print(\"\\n\")\n",
    "\n",
    "#### Permuted Choice-2\n",
    "key_permuted_matrix_2 = permuted_choice_2(left_str + right_str)\n",
    "print(\"\\nPermuted Choice-2 Matrix-Key\")\n",
    "print(\"Length : \",len(key_permuted_matrix_2))\n",
    "display_8(key_permuted_matrix_2)\n",
    "print(\"\\n\")"
   ]
  },
  {
   "cell_type": "code",
   "execution_count": 19,
   "id": "9f5b9965",
   "metadata": {},
   "outputs": [
    {
     "name": "stdout",
     "output_type": "stream",
     "text": [
      "\n",
      "############################################### Joining ###############################################\n",
      "\n",
      "X-OR Output\n",
      "Length :  48\n",
      "001101   110111   010111   011100   100100   001111   000111   011010\n",
      "\n",
      "\n",
      "S-Box Output\n",
      "Length :  32\n",
      "11011100111001000001010101110000\n",
      "\n",
      "Final Permutation Matrix\n",
      "Length :  32\n",
      "   01000101   01100110   10101000   1110\n",
      "\n",
      "\n",
      "XOR output\n",
      "Length :  32\n",
      "   11011101   01100101   11001111   0001\n",
      "\n"
     ]
    }
   ],
   "source": [
    "print(\"\\n############################################### Joining ###############################################\")\n",
    "\n",
    "## XOR (input -> expansion_permutation_matrix (48 bits) || output -> key_permuted_matrix_2 (48 bits) )\n",
    "xor_output = xor(expansion_permutation_matrix, key_permuted_matrix_2)\n",
    "print(\"\\nX-OR Output\")\n",
    "print(\"Length : \",len(xor_output))\n",
    "display_6(xor_output)\n",
    "print(\"\\n\")\n",
    "\n",
    "## S-BOX (input -> 48 bits || output -> 32 bits)\n",
    "s_box_output = s_box(xor_output)\n",
    "s_box_output = ''.join(s_box_output)\n",
    "print(\"\\nS-Box Output\")\n",
    "print(\"Length : \",len(s_box_output))\n",
    "print(s_box_output)\n",
    "\n",
    "## Final Permutation (input -> 32 bits || output -> 32 bits)\n",
    "final_permutation_output = final_permutation(s_box_output)\n",
    "print(\"\\nFinal Permutation Matrix\")\n",
    "print(\"Length : \",len(final_permutation_output))\n",
    "display_8(final_permutation_output)\n",
    "print(\"\\n\")\n",
    "\n",
    "## XOR Operation (input -> left_string -> (32 bits) || output -> final_permutation_output (32 bits) )\n",
    "xor_output = xor(final_permutation_output, left_str)\n",
    "print(\"\\nXOR output\")\n",
    "print(\"Length : \",len(xor_output))\n",
    "display_8(xor_output)\n",
    "print(\"\\n\")"
   ]
  },
  {
   "cell_type": "code",
   "execution_count": 20,
   "id": "0c0a11c5",
   "metadata": {},
   "outputs": [
    {
     "name": "stdout",
     "output_type": "stream",
     "text": [
      "\n",
      "Before Swapping\n",
      "Left Text  : \n",
      "   10011000   00000011   01100111   1111\n",
      "Right Text : \n",
      "   11100001   10101011   10000101   1010\n",
      "\n",
      "After Swapping\n",
      "Left Text  : \n",
      "   11100001   10101011   10000101   1010\n",
      "Right Text : \n",
      "   11011101   01100101   11001111   0001"
     ]
    }
   ],
   "source": [
    "## Before swapping\n",
    "print(\"\\nBefore Swapping\")\n",
    "print(\"Left Text  : \")\n",
    "display_8(left_str)\n",
    "\n",
    "print(\"\\nRight Text : \")\n",
    "display_8(right_str)\n",
    "\n",
    "## After swapping\n",
    "print(\"\\n\\nAfter Swapping\")\n",
    "left_str  = right_str\n",
    "right_str = xor_output\n",
    "\n",
    "print(\"Left Text  : \")\n",
    "display_8(left_str)\n",
    "\n",
    "print(\"\\nRight Text : \")\n",
    "display_8(right_str)"
   ]
  },
  {
   "cell_type": "code",
   "execution_count": 21,
   "id": "531ac2c9",
   "metadata": {},
   "outputs": [],
   "source": [
    "## Key-Generation for Round-1 to Round-16"
   ]
  },
  {
   "cell_type": "code",
   "execution_count": 22,
   "id": "82d245ed",
   "metadata": {},
   "outputs": [],
   "source": [
    "def shift(pc1text, round):\n",
    "    text = pc1text\n",
    "    for _ in range(2):\n",
    "        flow1 = text[0]\n",
    "        flow2 = text[28]\n",
    "        left = text[1:28]\n",
    "        right = text[29:]\n",
    "        left.append(flow1)\n",
    "        right.append(flow2)\n",
    "        left.extend(right)\n",
    "        text = left\n",
    "        if round in (1, 2, 9, 16):  ## 2 \n",
    "            break\n",
    "    return text"
   ]
  },
  {
   "cell_type": "code",
   "execution_count": 23,
   "id": "8150ff7f",
   "metadata": {},
   "outputs": [
    {
     "name": "stdout",
     "output_type": "stream",
     "text": [
      "C1 --> 1110000110011001010101011111\n",
      "D1 --> 1010101011001100111100011110\n",
      "\n",
      "\n",
      "C2 --> 1110000110011001010101011111\n",
      "D2 --> 1010101011001100111100011110\n",
      "\n",
      "\n",
      "C3 --> 1100001100110010101010111111\n",
      "D3 --> 0101010110011001111000111101\n",
      "\n",
      "\n",
      "C4 --> 1100001100110010101010111111\n",
      "D4 --> 0101010110011001111000111101\n",
      "\n",
      "\n",
      "C5 --> 1100001100110010101010111111\n",
      "D5 --> 0101010110011001111000111101\n",
      "\n",
      "\n",
      "C6 --> 1100001100110010101010111111\n",
      "D6 --> 0101010110011001111000111101\n",
      "\n",
      "\n",
      "C7 --> 1100001100110010101010111111\n",
      "D7 --> 0101010110011001111000111101\n",
      "\n",
      "\n",
      "C8 --> 1100001100110010101010111111\n",
      "D8 --> 0101010110011001111000111101\n",
      "\n",
      "\n",
      "C9 --> 1110000110011001010101011111\n",
      "D9 --> 1010101011001100111100011110\n",
      "\n",
      "\n",
      "C10 --> 1100001100110010101010111111\n",
      "D10 --> 0101010110011001111000111101\n",
      "\n",
      "\n",
      "C11 --> 1100001100110010101010111111\n",
      "D11 --> 0101010110011001111000111101\n",
      "\n",
      "\n",
      "C12 --> 1100001100110010101010111111\n",
      "D12 --> 0101010110011001111000111101\n",
      "\n",
      "\n",
      "C13 --> 1100001100110010101010111111\n",
      "D13 --> 0101010110011001111000111101\n",
      "\n",
      "\n",
      "C14 --> 1100001100110010101010111111\n",
      "D14 --> 0101010110011001111000111101\n",
      "\n",
      "\n",
      "C15 --> 1100001100110010101010111111\n",
      "D15 --> 0101010110011001111000111101\n",
      "\n",
      "\n",
      "C16 --> 1110000110011001010101011111\n",
      "D16 --> 1010101011001100111100011110\n",
      "\n",
      "\n"
     ]
    }
   ],
   "source": [
    "for i in range(1, 17):\n",
    "    permutatedc1 = shift(key_permuted_matrix_1, i)\n",
    "    print(\"C{} --> \".format(i),end='')\n",
    "    print(''.join(permutatedc1[:28]))\n",
    "\n",
    "    print(\"D{} --> \".format(i),end='')\n",
    "    print(''.join(permutatedc1[28:]))\n",
    "\n",
    "    print(\"\\n\")"
   ]
  },
  {
   "cell_type": "code",
   "execution_count": null,
   "id": "a2d40c3f",
   "metadata": {},
   "outputs": [],
   "source": []
  }
 ],
 "metadata": {
  "kernelspec": {
   "display_name": "Python 3 (ipykernel)",
   "language": "python",
   "name": "python3"
  },
  "language_info": {
   "codemirror_mode": {
    "name": "ipython",
    "version": 3
   },
   "file_extension": ".py",
   "mimetype": "text/x-python",
   "name": "python",
   "nbconvert_exporter": "python",
   "pygments_lexer": "ipython3",
   "version": "3.9.7"
  }
 },
 "nbformat": 4,
 "nbformat_minor": 5
}
