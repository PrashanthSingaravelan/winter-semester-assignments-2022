{
 "cells": [
  {
   "cell_type": "code",
   "execution_count": 1,
   "id": "31c10d65",
   "metadata": {},
   "outputs": [],
   "source": [
    "import pandas as pd\n",
    "import numpy as np\n",
    "\n",
    "from termcolor import colored\n",
    "\n",
    "import matplotlib.pyplot as plt\n",
    "%matplotlib inline\n",
    "\n",
    "from numpy.random import normal\n",
    "from sklearn.model_selection import train_test_split\n",
    "from sklearn.tree import DecisionTreeClassifier\n",
    "\n",
    "from sklearn import tree\n",
    "import matplotlib.pyplot as plt\n",
    "from sklearn.tree import export_text\n",
    "\n",
    "from sklearn import metrics\n",
    "import seaborn as sns\n",
    "import matplotlib.pyplot as plt"
   ]
  },
  {
   "cell_type": "code",
   "execution_count": 2,
   "id": "1250cd44",
   "metadata": {},
   "outputs": [
    {
     "data": {
      "text/html": [
       "<div>\n",
       "<style scoped>\n",
       "    .dataframe tbody tr th:only-of-type {\n",
       "        vertical-align: middle;\n",
       "    }\n",
       "\n",
       "    .dataframe tbody tr th {\n",
       "        vertical-align: top;\n",
       "    }\n",
       "\n",
       "    .dataframe thead th {\n",
       "        text-align: right;\n",
       "    }\n",
       "</style>\n",
       "<table border=\"1\" class=\"dataframe\">\n",
       "  <thead>\n",
       "    <tr style=\"text-align: right;\">\n",
       "      <th></th>\n",
       "      <th>Pregnancies</th>\n",
       "      <th>Glucose</th>\n",
       "      <th>BloodPressure</th>\n",
       "      <th>SkinThickness</th>\n",
       "      <th>Insulin</th>\n",
       "      <th>BMI</th>\n",
       "      <th>DiabetesPedigreeFunction</th>\n",
       "      <th>Age</th>\n",
       "      <th>Outcome</th>\n",
       "    </tr>\n",
       "  </thead>\n",
       "  <tbody>\n",
       "    <tr>\n",
       "      <th>0</th>\n",
       "      <td>6</td>\n",
       "      <td>148</td>\n",
       "      <td>72</td>\n",
       "      <td>35</td>\n",
       "      <td>0</td>\n",
       "      <td>33.6</td>\n",
       "      <td>0.627</td>\n",
       "      <td>50</td>\n",
       "      <td>1</td>\n",
       "    </tr>\n",
       "    <tr>\n",
       "      <th>1</th>\n",
       "      <td>1</td>\n",
       "      <td>85</td>\n",
       "      <td>66</td>\n",
       "      <td>29</td>\n",
       "      <td>0</td>\n",
       "      <td>26.6</td>\n",
       "      <td>0.351</td>\n",
       "      <td>31</td>\n",
       "      <td>0</td>\n",
       "    </tr>\n",
       "    <tr>\n",
       "      <th>2</th>\n",
       "      <td>8</td>\n",
       "      <td>183</td>\n",
       "      <td>64</td>\n",
       "      <td>0</td>\n",
       "      <td>0</td>\n",
       "      <td>23.3</td>\n",
       "      <td>0.672</td>\n",
       "      <td>32</td>\n",
       "      <td>1</td>\n",
       "    </tr>\n",
       "    <tr>\n",
       "      <th>3</th>\n",
       "      <td>1</td>\n",
       "      <td>89</td>\n",
       "      <td>66</td>\n",
       "      <td>23</td>\n",
       "      <td>94</td>\n",
       "      <td>28.1</td>\n",
       "      <td>0.167</td>\n",
       "      <td>21</td>\n",
       "      <td>0</td>\n",
       "    </tr>\n",
       "    <tr>\n",
       "      <th>4</th>\n",
       "      <td>0</td>\n",
       "      <td>137</td>\n",
       "      <td>40</td>\n",
       "      <td>35</td>\n",
       "      <td>168</td>\n",
       "      <td>43.1</td>\n",
       "      <td>2.288</td>\n",
       "      <td>33</td>\n",
       "      <td>1</td>\n",
       "    </tr>\n",
       "  </tbody>\n",
       "</table>\n",
       "</div>"
      ],
      "text/plain": [
       "   Pregnancies  Glucose  BloodPressure  SkinThickness  Insulin   BMI  \\\n",
       "0            6      148             72             35        0  33.6   \n",
       "1            1       85             66             29        0  26.6   \n",
       "2            8      183             64              0        0  23.3   \n",
       "3            1       89             66             23       94  28.1   \n",
       "4            0      137             40             35      168  43.1   \n",
       "\n",
       "   DiabetesPedigreeFunction  Age  Outcome  \n",
       "0                     0.627   50        1  \n",
       "1                     0.351   31        0  \n",
       "2                     0.672   32        1  \n",
       "3                     0.167   21        0  \n",
       "4                     2.288   33        1  "
      ]
     },
     "execution_count": 2,
     "metadata": {},
     "output_type": "execute_result"
    }
   ],
   "source": [
    "df = pd.read_csv('diabetes.csv')\n",
    "df.head()"
   ]
  },
  {
   "cell_type": "code",
   "execution_count": 3,
   "id": "ee347152",
   "metadata": {},
   "outputs": [
    {
     "name": "stdout",
     "output_type": "stream",
     "text": [
      "<class 'pandas.core.frame.DataFrame'>\n",
      "RangeIndex: 768 entries, 0 to 767\n",
      "Data columns (total 9 columns):\n",
      " #   Column                    Non-Null Count  Dtype  \n",
      "---  ------                    --------------  -----  \n",
      " 0   Pregnancies               768 non-null    int64  \n",
      " 1   Glucose                   768 non-null    int64  \n",
      " 2   BloodPressure             768 non-null    int64  \n",
      " 3   SkinThickness             768 non-null    int64  \n",
      " 4   Insulin                   768 non-null    int64  \n",
      " 5   BMI                       768 non-null    float64\n",
      " 6   DiabetesPedigreeFunction  768 non-null    float64\n",
      " 7   Age                       768 non-null    int64  \n",
      " 8   Outcome                   768 non-null    int64  \n",
      "dtypes: float64(2), int64(7)\n",
      "memory usage: 54.1 KB\n"
     ]
    }
   ],
   "source": [
    "df.info()"
   ]
  },
  {
   "cell_type": "code",
   "execution_count": 4,
   "id": "3ff23a9a",
   "metadata": {},
   "outputs": [
    {
     "name": "stdout",
     "output_type": "stream",
     "text": [
      "Column in the data-set : \n",
      "Index(['Pregnancies', 'Glucose', 'BloodPressure', 'SkinThickness', 'Insulin',\n",
      "       'BMI', 'DiabetesPedigreeFunction', 'Age', 'Outcome'],\n",
      "      dtype='object')\n"
     ]
    }
   ],
   "source": [
    "print(\"Column in the data-set : \")\n",
    "print(df.columns)"
   ]
  },
  {
   "cell_type": "code",
   "execution_count": 5,
   "id": "9f87efa6",
   "metadata": {},
   "outputs": [
    {
     "name": "stdout",
     "output_type": "stream",
     "text": [
      "Number of attributes :  9\n",
      "Number of instances  :  768\n"
     ]
    }
   ],
   "source": [
    "print(\"Number of attributes : \",len(df.columns))\n",
    "print(\"Number of instances  : \",len(df))"
   ]
  },
  {
   "cell_type": "markdown",
   "id": "b4f2a8b7",
   "metadata": {},
   "source": [
    "## Question-2"
   ]
  },
  {
   "cell_type": "code",
   "execution_count": 6,
   "id": "6a1705d4",
   "metadata": {},
   "outputs": [
    {
     "name": "stdout",
     "output_type": "stream",
     "text": [
      "Number of classes in the data-set :  2\n",
      "\n",
      "\n",
      "Number of instances in Class-0 : 500\n",
      "Number of instances in Class-1 : 268\n"
     ]
    }
   ],
   "source": [
    "classes = df['Outcome'].nunique()\n",
    "print(\"Number of classes in the data-set : \",classes)\n",
    "print(\"\\n\")\n",
    "\n",
    "for i in range(classes):\n",
    "    print(\"Number of instances in Class-{} : {}\".format(i,len(df[df['Outcome'] == i])))"
   ]
  },
  {
   "cell_type": "markdown",
   "id": "0e50535e",
   "metadata": {},
   "source": [
    "## Question-3"
   ]
  },
  {
   "cell_type": "code",
   "execution_count": 7,
   "id": "af1779da",
   "metadata": {},
   "outputs": [
    {
     "name": "stdout",
     "output_type": "stream",
     "text": [
      "Pregnancies --> 3.37\n",
      "Glucose --> 31.95\n",
      "BloodPressure --> 19.34\n",
      "SkinThickness --> 15.94\n",
      "Insulin --> 115.17\n",
      "BMI --> 7.88\n",
      "DiabetesPedigreeFunction --> 0.33\n",
      "Age --> 11.75\n",
      "Outcome --> 0.48\n"
     ]
    }
   ],
   "source": [
    "list1 = []\n",
    "for i in df.columns:\n",
    "    list1.append((i,np.std(df[i])))\n",
    "    print(\"{} --> {:.2f}\".format(i,np.std(df[i])))"
   ]
  },
  {
   "cell_type": "code",
   "execution_count": 8,
   "id": "65990c85",
   "metadata": {},
   "outputs": [
    {
     "name": "stdout",
     "output_type": "stream",
     "text": [
      "Maximum spread :  ('Insulin', 115.1689492646728)\n",
      "Minimum spread :  ('DiabetesPedigreeFunction', 0.331112816028629)\n"
     ]
    }
   ],
   "source": [
    "print(\"Maximum spread : \",max(list1,key=lambda item:item[1]))\n",
    "print(\"Minimum spread : \",min(list1,key=lambda item:item[1]))"
   ]
  },
  {
   "cell_type": "markdown",
   "id": "dadc8cda",
   "metadata": {},
   "source": [
    "## Question-4"
   ]
  },
  {
   "cell_type": "code",
   "execution_count": 9,
   "id": "9b18da96",
   "metadata": {},
   "outputs": [
    {
     "name": "stdout",
     "output_type": "stream",
     "text": [
      "\u001b[1m\n",
      "Pregnancies-Feature\u001b[0m\n",
      "1st quantile :  1.0\n",
      "3rd quantile :  6.0\n",
      "Inter-Quartile Range :  5.0\n",
      "Lower Limit :  -14.0\n",
      "Upper Limit :  21.0\n",
      "\u001b[1m\n",
      "Glucose-Feature\u001b[0m\n",
      "1st quantile :  99.0\n",
      "3rd quantile :  140.25\n",
      "Inter-Quartile Range :  41.25\n",
      "Lower Limit :  -24.75\n",
      "Upper Limit :  264.0\n",
      "\u001b[1m\n",
      "BloodPressure-Feature\u001b[0m\n",
      "1st quantile :  62.0\n",
      "3rd quantile :  80.0\n",
      "Inter-Quartile Range :  18.0\n",
      "Lower Limit :  8.0\n",
      "Upper Limit :  134.0\n",
      "\u001b[1m\n",
      "SkinThickness-Feature\u001b[0m\n",
      "1st quantile :  0.0\n",
      "3rd quantile :  32.0\n",
      "Inter-Quartile Range :  32.0\n",
      "Lower Limit :  -96.0\n",
      "Upper Limit :  128.0\n",
      "\u001b[1m\n",
      "Insulin-Feature\u001b[0m\n",
      "1st quantile :  0.0\n",
      "3rd quantile :  127.25\n",
      "Inter-Quartile Range :  127.25\n",
      "Lower Limit :  -381.75\n",
      "Upper Limit :  509.0\n",
      "\u001b[1m\n",
      "BMI-Feature\u001b[0m\n",
      "1st quantile :  27.3\n",
      "3rd quantile :  36.6\n",
      "Inter-Quartile Range :  9.3\n",
      "Lower Limit :  -0.6000000000000014\n",
      "Upper Limit :  64.5\n",
      "\u001b[1m\n",
      "DiabetesPedigreeFunction-Feature\u001b[0m\n",
      "1st quantile :  0.24375\n",
      "3rd quantile :  0.62625\n",
      "Inter-Quartile Range :  0.38249999999999995\n",
      "Lower Limit :  -0.9037499999999999\n",
      "Upper Limit :  1.77375\n",
      "\u001b[1m\n",
      "Age-Feature\u001b[0m\n",
      "1st quantile :  24.0\n",
      "3rd quantile :  41.0\n",
      "Inter-Quartile Range :  17.0\n",
      "Lower Limit :  -27.0\n",
      "Upper Limit :  92.0\n",
      "\u001b[1m\n",
      "Outcome-Feature\u001b[0m\n",
      "1st quantile :  0.0\n",
      "3rd quantile :  1.0\n",
      "Inter-Quartile Range :  1.0\n",
      "Lower Limit :  -3.0\n",
      "Upper Limit :  4.0\n"
     ]
    }
   ],
   "source": [
    "length = 0\n",
    "outlier_factor = 3\n",
    "\n",
    "for i in df.columns:  ## traversing column by column\n",
    "\n",
    "    print((colored(\"\\n{}-Feature\".format(i), attrs=['bold'])))\n",
    "    \n",
    "    q1_y = df[i].quantile(0.25)\n",
    "    print(\"1st quantile : \",q1_y)\n",
    "\n",
    "    q3_y = df[i].quantile(0.75)\n",
    "    print(\"3rd quantile : \",q3_y)\n",
    "\n",
    "    IQR = q3_y - q1_y\n",
    "    print(\"Inter-Quartile Range : \",IQR)\n",
    "    \n",
    "    lower_limit  = q1_y - outlier_factor * IQR \n",
    "    upper_limit = q3_y + outlier_factor * IQR\n",
    "    \n",
    "    print(\"Lower Limit : \",lower_limit)\n",
    "    print(\"Upper Limit : \",upper_limit)\n",
    "    \n",
    "    length += len(df[np.logical_or( df[i] < lower_limit ,   df[i] > upper_limit) ])    "
   ]
  },
  {
   "cell_type": "code",
   "execution_count": 10,
   "id": "f1ecbd70",
   "metadata": {},
   "outputs": [
    {
     "name": "stdout",
     "output_type": "stream",
     "text": [
      "Number of outliers :  51\n",
      "Percentage of Outliers :  6.640625\n"
     ]
    }
   ],
   "source": [
    "print(\"Number of outliers : \",length)\n",
    "print(\"Percentage of Outliers : \",length/len(df) * 100)"
   ]
  },
  {
   "cell_type": "code",
   "execution_count": 11,
   "id": "e71241bb",
   "metadata": {},
   "outputs": [
    {
     "name": "stdout",
     "output_type": "stream",
     "text": [
      "\u001b[1m1st Quantile\u001b[0m\n",
      "Pregnancies                  1.00000\n",
      "Glucose                     99.00000\n",
      "BloodPressure               62.00000\n",
      "SkinThickness                0.00000\n",
      "Insulin                      0.00000\n",
      "BMI                         27.30000\n",
      "DiabetesPedigreeFunction     0.24375\n",
      "Age                         24.00000\n",
      "Outcome                      0.00000\n",
      "Name: 0.25, dtype: float64\n"
     ]
    }
   ],
   "source": [
    "print(colored(\"1st Quantile\", attrs=['bold']))\n",
    "q1 = df.quantile(0.25)  ## calculates the 1st quantile of df\n",
    "print(q1)"
   ]
  },
  {
   "cell_type": "code",
   "execution_count": 12,
   "id": "3f65bda8",
   "metadata": {},
   "outputs": [
    {
     "name": "stdout",
     "output_type": "stream",
     "text": [
      "\u001b[1m3rd Quantile\u001b[0m\n"
     ]
    },
    {
     "data": {
      "text/plain": [
       "Pregnancies                   6.00000\n",
       "Glucose                     140.25000\n",
       "BloodPressure                80.00000\n",
       "SkinThickness                32.00000\n",
       "Insulin                     127.25000\n",
       "BMI                          36.60000\n",
       "DiabetesPedigreeFunction      0.62625\n",
       "Age                          41.00000\n",
       "Outcome                       1.00000\n",
       "Name: 0.75, dtype: float64"
      ]
     },
     "execution_count": 12,
     "metadata": {},
     "output_type": "execute_result"
    }
   ],
   "source": [
    "print(colored(\"3rd Quantile\", attrs=['bold']))\n",
    "q3 = df.quantile(0.75)  ## calculates the 3rd quantile of df\n",
    "q3"
   ]
  },
  {
   "cell_type": "code",
   "execution_count": 13,
   "id": "4658165f",
   "metadata": {},
   "outputs": [
    {
     "name": "stdout",
     "output_type": "stream",
     "text": [
      "\u001b[1mIQR\u001b[0m\n",
      "Pregnancies                   5.0000\n",
      "Glucose                      41.2500\n",
      "BloodPressure                18.0000\n",
      "SkinThickness                32.0000\n",
      "Insulin                     127.2500\n",
      "BMI                           9.3000\n",
      "DiabetesPedigreeFunction      0.3825\n",
      "Age                          17.0000\n",
      "Outcome                       1.0000\n",
      "dtype: float64\n"
     ]
    }
   ],
   "source": [
    "print(colored(\"IQR\", attrs=['bold']))\n",
    "IQR = q3 - q1\n",
    "print(IQR)"
   ]
  },
  {
   "cell_type": "code",
   "execution_count": 14,
   "id": "29409da4",
   "metadata": {},
   "outputs": [
    {
     "name": "stdout",
     "output_type": "stream",
     "text": [
      "Before Removing the Outliers :  768\n",
      "After Removing the Outliers :  639\n"
     ]
    }
   ],
   "source": [
    "print(\"Before Removing the Outliers : \",len(df))\n",
    "df = df[~((df < (q1 - 1.5 * IQR)) | (df > (q3 + 1.5 * IQR))).any(axis=1)]\n",
    "print(\"After Removing the Outliers : \",len(df))"
   ]
  },
  {
   "cell_type": "code",
   "execution_count": 15,
   "id": "f61817e2",
   "metadata": {},
   "outputs": [],
   "source": [
    "x = df.drop(columns=\"Outcome\")\n",
    "y = df[\"Outcome\"]"
   ]
  },
  {
   "cell_type": "code",
   "execution_count": 16,
   "id": "f1c16f04",
   "metadata": {},
   "outputs": [],
   "source": [
    "#save the feature name and target variables\n",
    "feature_names = x.columns\n",
    "labels = y.unique()"
   ]
  },
  {
   "cell_type": "code",
   "execution_count": 17,
   "id": "e223e193",
   "metadata": {},
   "outputs": [],
   "source": [
    "X_train, X_test, y_train, y_test = train_test_split(x,y,train_size = 0.66,random_state = 42)"
   ]
  },
  {
   "cell_type": "code",
   "execution_count": 18,
   "id": "f1e1d005",
   "metadata": {},
   "outputs": [
    {
     "data": {
      "text/plain": [
       "DecisionTreeClassifier(max_depth=3, random_state=42)"
      ]
     },
     "execution_count": 18,
     "metadata": {},
     "output_type": "execute_result"
    }
   ],
   "source": [
    "clf = DecisionTreeClassifier(max_depth =3, random_state = 42)\n",
    "clf.fit(X_train, y_train)"
   ]
  },
  {
   "cell_type": "code",
   "execution_count": 19,
   "id": "28e0016f",
   "metadata": {},
   "outputs": [],
   "source": [
    "# #plt the figure, setting a black background\n",
    "# plt.figure(figsize=(30,10), facecolor ='k')\n",
    "# #create the tree plot\n",
    "# a = tree.plot_tree(clf,feature_names = feature_names,class_names = labels,rounded = True,filled = True,fontsize=14)\n",
    "# #show the plot\n",
    "# plt.show()"
   ]
  },
  {
   "cell_type": "code",
   "execution_count": 20,
   "id": "ee2c7a45",
   "metadata": {},
   "outputs": [
    {
     "name": "stdout",
     "output_type": "stream",
     "text": [
      "|--- Glucose <= 146.50\n",
      "|   |--- Glucose <= 100.50\n",
      "|   |   |--- Age <= 51.00\n",
      "|   |   |   |--- class: 0\n",
      "|   |   |--- Age >  51.00\n",
      "|   |   |   |--- class: 0\n",
      "|   |--- Glucose >  100.50\n",
      "|   |   |--- BMI <= 26.35\n",
      "|   |   |   |--- class: 0\n",
      "|   |   |--- BMI >  26.35\n",
      "|   |   |   |--- class: 0\n",
      "|--- Glucose >  146.50\n",
      "|   |--- Glucose <= 166.50\n",
      "|   |   |--- Pregnancies <= 6.50\n",
      "|   |   |   |--- class: 0\n",
      "|   |   |--- Pregnancies >  6.50\n",
      "|   |   |   |--- class: 1\n",
      "|   |--- Glucose >  166.50\n",
      "|   |   |--- Age <= 57.50\n",
      "|   |   |   |--- class: 1\n",
      "|   |   |--- Age >  57.50\n",
      "|   |   |   |--- class: 0\n",
      "\n"
     ]
    }
   ],
   "source": [
    "tree_rules = export_text(clf,feature_names = list(feature_names))\n",
    "#print the result\n",
    "print(tree_rules)"
   ]
  },
  {
   "cell_type": "code",
   "execution_count": 21,
   "id": "38708136",
   "metadata": {},
   "outputs": [
    {
     "name": "stdout",
     "output_type": "stream",
     "text": [
      "Accuracy Score on test data:  0.7477064220183486\n"
     ]
    }
   ],
   "source": [
    "y_pred =  clf.predict(X_test)\n",
    "\n",
    "print('Accuracy Score on test data: ',metrics.accuracy_score(y_test, y_pred))"
   ]
  },
  {
   "cell_type": "code",
   "execution_count": 22,
   "id": "adbbe719",
   "metadata": {},
   "outputs": [
    {
     "name": "stdout",
     "output_type": "stream",
     "text": [
      "[[143   4]\n",
      " [ 51  20]]\n"
     ]
    }
   ],
   "source": [
    "print(metrics.confusion_matrix(y_test, y_pred))"
   ]
  },
  {
   "cell_type": "code",
   "execution_count": 23,
   "id": "604101ed",
   "metadata": {},
   "outputs": [],
   "source": [
    "confusion = metrics.confusion_matrix(y_test, y_pred)\n",
    "TP = confusion[1, 1]\n",
    "TN = confusion[0, 0]\n",
    "FP = confusion[0, 1]\n",
    "FN = confusion[1, 0]"
   ]
  },
  {
   "cell_type": "code",
   "execution_count": 24,
   "id": "0acfaf18",
   "metadata": {},
   "outputs": [
    {
     "data": {
      "image/png": "[encoded data removed]",
      "text/plain": [
       "<Figure size 432x288 with 2 Axes>"
      ]
     },
     "metadata": {
      "needs_background": "light"
     },
     "output_type": "display_data"
    }
   ],
   "source": [
    "ax= plt.subplot()\n",
    "sns.heatmap(confusion, annot=True, fmt='g', ax=ax); \n",
    "\n",
    "# labels, title and ticks\n",
    "ax.set_xlabel('Predicted labels')\n",
    "ax.set_ylabel('Actual labels')\n",
    "ax.set_title('Confusion Matrix')\n",
    "\n",
    "ax.xaxis.set_ticklabels(['1', '0'])\n",
    "ax.yaxis.set_ticklabels(['1', '0'])\n",
    "\n",
    "plt.show()"
   ]
  },
  {
   "cell_type": "code",
   "execution_count": 25,
   "id": "e47c18fb",
   "metadata": {},
   "outputs": [
    {
     "name": "stdout",
     "output_type": "stream",
     "text": [
      "0.7477064220183486\n",
      "Accuracy Score on confusion_matrix:  0.7477064220183486\n"
     ]
    }
   ],
   "source": [
    "print((TP + TN) / float(TP + TN + FP + FN))\n",
    "print('Accuracy Score on confusion_matrix: ' ,metrics.accuracy_score(y_test, y_pred))"
   ]
  },
  {
   "cell_type": "code",
   "execution_count": 26,
   "id": "a0eec61d",
   "metadata": {},
   "outputs": [
    {
     "name": "stdout",
     "output_type": "stream",
     "text": [
      "0.25229357798165136\n",
      "Error Score on confusion_matrix:  0.2522935779816514\n"
     ]
    }
   ],
   "source": [
    "classification_error = (FP + FN) / float(TP + TN + FP + FN)\n",
    "\n",
    "print(classification_error)\n",
    "print('Error Score on confusion_matrix: ' ,1 - metrics.accuracy_score(y_test, y_pred))"
   ]
  },
  {
   "cell_type": "code",
   "execution_count": 27,
   "id": "0e2ad659",
   "metadata": {},
   "outputs": [
    {
     "name": "stdout",
     "output_type": "stream",
     "text": [
      "0.28169014084507044\n",
      "sensitivity Score on confusion_matrix:  0.28169014084507044\n"
     ]
    }
   ],
   "source": [
    "sensitivity = TP / float(FN + TP)\n",
    "print(sensitivity)\n",
    "print('sensitivity Score on confusion_matrix: ',metrics.recall_score(y_test, y_pred))"
   ]
  },
  {
   "cell_type": "code",
   "execution_count": 28,
   "id": "bb66b7e3",
   "metadata": {},
   "outputs": [
    {
     "name": "stdout",
     "output_type": "stream",
     "text": [
      "0.28169014084507044\n",
      "Recall Score on confusion_matrix:  0.28169014084507044\n"
     ]
    }
   ],
   "source": [
    "recall = TP / float(TP + FN)\n",
    "print(recall)\n",
    "print('Recall Score on confusion_matrix: ',metrics.recall_score(y_test, y_pred))"
   ]
  },
  {
   "cell_type": "code",
   "execution_count": 29,
   "id": "b4d85888",
   "metadata": {},
   "outputs": [
    {
     "name": "stdout",
     "output_type": "stream",
     "text": [
      "0.9727891156462585\n",
      "specificity Score on confusion_matrix:  0.9727891156462585\n"
     ]
    }
   ],
   "source": [
    "specificity = TN / (TN + FP)\n",
    "print(specificity)\n",
    "print('specificity Score on confusion_matrix: ', specificity)"
   ]
  },
  {
   "cell_type": "code",
   "execution_count": 30,
   "id": "ed57cd3e",
   "metadata": {},
   "outputs": [
    {
     "name": "stdout",
     "output_type": "stream",
     "text": [
      "0.8333333333333334\n",
      "precision Score on confusion_matrix:  0.8333333333333334\n"
     ]
    }
   ],
   "source": [
    "precision = TP / float(TP + FP)\n",
    "print(precision)\n",
    "print('precision Score on confusion_matrix: ',metrics.precision_score(y_test, y_pred))"
   ]
  },
  {
   "cell_type": "code",
   "execution_count": 31,
   "id": "69f841bb",
   "metadata": {},
   "outputs": [
    {
     "name": "stdout",
     "output_type": "stream",
     "text": [
      "0.4210526315789474\n",
      "f1_score Score on confusion_matrix:  0.4210526315789474\n"
     ]
    }
   ],
   "source": [
    "f1_score = (2 * precision * recall) / (precision + recall)\n",
    "print(f1_score)\n",
    "\n",
    "print('f1_score Score on confusion_matrix: ',metrics.f1_score(y_test, y_pred))"
   ]
  },
  {
   "cell_type": "code",
   "execution_count": null,
   "id": "7d6622c5",
   "metadata": {},
   "outputs": [],
   "source": []
  },
  {
   "cell_type": "code",
   "execution_count": null,
   "id": "90c1bbea",
   "metadata": {},
   "outputs": [],
   "source": []
  },
  {
   "cell_type": "code",
   "execution_count": null,
   "id": "cb8d9d30",
   "metadata": {},
   "outputs": [],
   "source": []
  },
  {
   "cell_type": "markdown",
   "id": "f898efb8",
   "metadata": {},
   "source": [
    "## Question-6"
   ]
  },
  {
   "cell_type": "code",
   "execution_count": 32,
   "id": "edef96b8",
   "metadata": {},
   "outputs": [
    {
     "data": {
      "text/html": [
       "<div>\n",
       "<style scoped>\n",
       "    .dataframe tbody tr th:only-of-type {\n",
       "        vertical-align: middle;\n",
       "    }\n",
       "\n",
       "    .dataframe tbody tr th {\n",
       "        vertical-align: top;\n",
       "    }\n",
       "\n",
       "    .dataframe thead th {\n",
       "        text-align: right;\n",
       "    }\n",
       "</style>\n",
       "<table border=\"1\" class=\"dataframe\">\n",
       "  <thead>\n",
       "    <tr style=\"text-align: right;\">\n",
       "      <th></th>\n",
       "      <th>Pregnancies</th>\n",
       "      <th>Glucose</th>\n",
       "      <th>BloodPressure</th>\n",
       "      <th>SkinThickness</th>\n",
       "      <th>Insulin</th>\n",
       "      <th>BMI</th>\n",
       "      <th>DiabetesPedigreeFunction</th>\n",
       "      <th>Age</th>\n",
       "    </tr>\n",
       "  </thead>\n",
       "  <tbody>\n",
       "    <tr>\n",
       "      <th>0</th>\n",
       "      <td>6</td>\n",
       "      <td>148</td>\n",
       "      <td>72</td>\n",
       "      <td>35</td>\n",
       "      <td>0</td>\n",
       "      <td>33.6</td>\n",
       "      <td>0.627</td>\n",
       "      <td>50</td>\n",
       "    </tr>\n",
       "    <tr>\n",
       "      <th>1</th>\n",
       "      <td>1</td>\n",
       "      <td>85</td>\n",
       "      <td>66</td>\n",
       "      <td>29</td>\n",
       "      <td>0</td>\n",
       "      <td>26.6</td>\n",
       "      <td>0.351</td>\n",
       "      <td>31</td>\n",
       "    </tr>\n",
       "    <tr>\n",
       "      <th>2</th>\n",
       "      <td>8</td>\n",
       "      <td>183</td>\n",
       "      <td>64</td>\n",
       "      <td>0</td>\n",
       "      <td>0</td>\n",
       "      <td>23.3</td>\n",
       "      <td>0.672</td>\n",
       "      <td>32</td>\n",
       "    </tr>\n",
       "    <tr>\n",
       "      <th>3</th>\n",
       "      <td>1</td>\n",
       "      <td>89</td>\n",
       "      <td>66</td>\n",
       "      <td>23</td>\n",
       "      <td>94</td>\n",
       "      <td>28.1</td>\n",
       "      <td>0.167</td>\n",
       "      <td>21</td>\n",
       "    </tr>\n",
       "    <tr>\n",
       "      <th>5</th>\n",
       "      <td>5</td>\n",
       "      <td>116</td>\n",
       "      <td>74</td>\n",
       "      <td>0</td>\n",
       "      <td>0</td>\n",
       "      <td>25.6</td>\n",
       "      <td>0.201</td>\n",
       "      <td>30</td>\n",
       "    </tr>\n",
       "    <tr>\n",
       "      <th>...</th>\n",
       "      <td>...</td>\n",
       "      <td>...</td>\n",
       "      <td>...</td>\n",
       "      <td>...</td>\n",
       "      <td>...</td>\n",
       "      <td>...</td>\n",
       "      <td>...</td>\n",
       "      <td>...</td>\n",
       "    </tr>\n",
       "    <tr>\n",
       "      <th>763</th>\n",
       "      <td>10</td>\n",
       "      <td>101</td>\n",
       "      <td>76</td>\n",
       "      <td>48</td>\n",
       "      <td>180</td>\n",
       "      <td>32.9</td>\n",
       "      <td>0.171</td>\n",
       "      <td>63</td>\n",
       "    </tr>\n",
       "    <tr>\n",
       "      <th>764</th>\n",
       "      <td>2</td>\n",
       "      <td>122</td>\n",
       "      <td>70</td>\n",
       "      <td>27</td>\n",
       "      <td>0</td>\n",
       "      <td>36.8</td>\n",
       "      <td>0.340</td>\n",
       "      <td>27</td>\n",
       "    </tr>\n",
       "    <tr>\n",
       "      <th>765</th>\n",
       "      <td>5</td>\n",
       "      <td>121</td>\n",
       "      <td>72</td>\n",
       "      <td>23</td>\n",
       "      <td>112</td>\n",
       "      <td>26.2</td>\n",
       "      <td>0.245</td>\n",
       "      <td>30</td>\n",
       "    </tr>\n",
       "    <tr>\n",
       "      <th>766</th>\n",
       "      <td>1</td>\n",
       "      <td>126</td>\n",
       "      <td>60</td>\n",
       "      <td>0</td>\n",
       "      <td>0</td>\n",
       "      <td>30.1</td>\n",
       "      <td>0.349</td>\n",
       "      <td>47</td>\n",
       "    </tr>\n",
       "    <tr>\n",
       "      <th>767</th>\n",
       "      <td>1</td>\n",
       "      <td>93</td>\n",
       "      <td>70</td>\n",
       "      <td>31</td>\n",
       "      <td>0</td>\n",
       "      <td>30.4</td>\n",
       "      <td>0.315</td>\n",
       "      <td>23</td>\n",
       "    </tr>\n",
       "  </tbody>\n",
       "</table>\n",
       "<p>639 rows × 8 columns</p>\n",
       "</div>"
      ],
      "text/plain": [
       "     Pregnancies  Glucose  BloodPressure  SkinThickness  Insulin   BMI  \\\n",
       "0              6      148             72             35        0  33.6   \n",
       "1              1       85             66             29        0  26.6   \n",
       "2              8      183             64              0        0  23.3   \n",
       "3              1       89             66             23       94  28.1   \n",
       "5              5      116             74              0        0  25.6   \n",
       "..           ...      ...            ...            ...      ...   ...   \n",
       "763           10      101             76             48      180  32.9   \n",
       "764            2      122             70             27        0  36.8   \n",
       "765            5      121             72             23      112  26.2   \n",
       "766            1      126             60              0        0  30.1   \n",
       "767            1       93             70             31        0  30.4   \n",
       "\n",
       "     DiabetesPedigreeFunction  Age  \n",
       "0                       0.627   50  \n",
       "1                       0.351   31  \n",
       "2                       0.672   32  \n",
       "3                       0.167   21  \n",
       "5                       0.201   30  \n",
       "..                        ...  ...  \n",
       "763                     0.171   63  \n",
       "764                     0.340   27  \n",
       "765                     0.245   30  \n",
       "766                     0.349   47  \n",
       "767                     0.315   23  \n",
       "\n",
       "[639 rows x 8 columns]"
      ]
     },
     "execution_count": 32,
     "metadata": {},
     "output_type": "execute_result"
    }
   ],
   "source": [
    "list1 = normal(4, 2, 10000)\n",
    "x"
   ]
  },
  {
   "cell_type": "code",
   "execution_count": 33,
   "id": "5565e3c7",
   "metadata": {},
   "outputs": [
    {
     "name": "stdout",
     "output_type": "stream",
     "text": [
      "Old Max :  8\n",
      "Old Min :  1\n"
     ]
    }
   ],
   "source": [
    "list1 = [6,1,4,2,7,3,8,1,5,3]\n",
    "old_max = max(list1)\n",
    "old_min  = min(list1)\n",
    "\n",
    "print(\"Old Max : \",old_max)\n",
    "print(\"Old Min : \",old_min)"
   ]
  },
  {
   "cell_type": "markdown",
   "id": "a98978db",
   "metadata": {},
   "source": [
    "### Normalize the data (by-default into range [0-1])"
   ]
  },
  {
   "cell_type": "code",
   "execution_count": 34,
   "id": "02ff9915",
   "metadata": {},
   "outputs": [
    {
     "data": {
      "image/png": "[encoded data removed]",
      "text/plain": [
       "<Figure size 432x288 with 1 Axes>"
      ]
     },
     "metadata": {
      "needs_background": "light"
     },
     "output_type": "display_data"
    }
   ],
   "source": [
    "ans = [ (i-old_min) / (old_max - old_min) for i in list1 ]\n",
    "plt.hist(ans)\n",
    "plt.show()"
   ]
  },
  {
   "cell_type": "markdown",
   "id": "a18f92ad",
   "metadata": {},
   "source": [
    "### Normalize the data into range [0-3]"
   ]
  },
  {
   "cell_type": "code",
   "execution_count": 35,
   "id": "808b85f4",
   "metadata": {},
   "outputs": [
    {
     "ename": "AttributeError",
     "evalue": "'Rectangle' object has no property 'normed'",
     "output_type": "error",
     "traceback": [
      "\u001b[0;31m---------------------------------------------------------------------------\u001b[0m",
      "\u001b[0;31mAttributeError\u001b[0m                            Traceback (most recent call last)",
      "\u001b[0;32m/var/folders/gq/nsqxf83n1813yysq2l8vvtxc0000gn/T/ipykernel_11714/1099806256.py\u001b[0m in \u001b[0;36m<module>\u001b[0;34m\u001b[0m\n\u001b[1;32m      2\u001b[0m \u001b[0max\u001b[0m \u001b[0;34m=\u001b[0m \u001b[0mfig\u001b[0m\u001b[0;34m.\u001b[0m\u001b[0madd_subplot\u001b[0m\u001b[0;34m(\u001b[0m\u001b[0;36m1\u001b[0m\u001b[0;34m,\u001b[0m\u001b[0;36m1\u001b[0m\u001b[0;34m,\u001b[0m\u001b[0;36m1\u001b[0m\u001b[0;34m)\u001b[0m\u001b[0;34m\u001b[0m\u001b[0;34m\u001b[0m\u001b[0m\n\u001b[1;32m      3\u001b[0m \u001b[0;34m\u001b[0m\u001b[0m\n\u001b[0;32m----> 4\u001b[0;31m \u001b[0max\u001b[0m\u001b[0;34m.\u001b[0m\u001b[0mhist\u001b[0m\u001b[0;34m(\u001b[0m\u001b[0mlist1\u001b[0m\u001b[0;34m,\u001b[0m \u001b[0mbins\u001b[0m\u001b[0;34m=\u001b[0m\u001b[0;36m50\u001b[0m\u001b[0;34m,\u001b[0m \u001b[0mnormed\u001b[0m\u001b[0;34m=\u001b[0m\u001b[0;32mTrue\u001b[0m\u001b[0;34m,\u001b[0m \u001b[0mlabel\u001b[0m\u001b[0;34m=\u001b[0m\u001b[0;34m\"data\"\u001b[0m\u001b[0;34m)\u001b[0m\u001b[0;34m\u001b[0m\u001b[0;34m\u001b[0m\u001b[0m\n\u001b[0m\u001b[1;32m      5\u001b[0m \u001b[0max\u001b[0m\u001b[0;34m.\u001b[0m\u001b[0mlegend\u001b[0m\u001b[0;34m(\u001b[0m\u001b[0mloc\u001b[0m\u001b[0;34m=\u001b[0m\u001b[0;34m'best'\u001b[0m\u001b[0;34m)\u001b[0m\u001b[0;34m\u001b[0m\u001b[0;34m\u001b[0m\u001b[0m\n",
      "\u001b[0;32m~/opt/anaconda3/lib/python3.9/site-packages/matplotlib/__init__.py\u001b[0m in \u001b[0;36minner\u001b[0;34m(ax, data, *args, **kwargs)\u001b[0m\n\u001b[1;32m   1359\u001b[0m     \u001b[0;32mdef\u001b[0m \u001b[0minner\u001b[0m\u001b[0;34m(\u001b[0m\u001b[0max\u001b[0m\u001b[0;34m,\u001b[0m \u001b[0;34m*\u001b[0m\u001b[0margs\u001b[0m\u001b[0;34m,\u001b[0m \u001b[0mdata\u001b[0m\u001b[0;34m=\u001b[0m\u001b[0;32mNone\u001b[0m\u001b[0;34m,\u001b[0m \u001b[0;34m**\u001b[0m\u001b[0mkwargs\u001b[0m\u001b[0;34m)\u001b[0m\u001b[0;34m:\u001b[0m\u001b[0;34m\u001b[0m\u001b[0;34m\u001b[0m\u001b[0m\n\u001b[1;32m   1360\u001b[0m         \u001b[0;32mif\u001b[0m \u001b[0mdata\u001b[0m \u001b[0;32mis\u001b[0m \u001b[0;32mNone\u001b[0m\u001b[0;34m:\u001b[0m\u001b[0;34m\u001b[0m\u001b[0;34m\u001b[0m\u001b[0m\n\u001b[0;32m-> 1361\u001b[0;31m             \u001b[0;32mreturn\u001b[0m \u001b[0mfunc\u001b[0m\u001b[0;34m(\u001b[0m\u001b[0max\u001b[0m\u001b[0;34m,\u001b[0m \u001b[0;34m*\u001b[0m\u001b[0mmap\u001b[0m\u001b[0;34m(\u001b[0m\u001b[0msanitize_sequence\u001b[0m\u001b[0;34m,\u001b[0m \u001b[0margs\u001b[0m\u001b[0;34m)\u001b[0m\u001b[0;34m,\u001b[0m \u001b[0;34m**\u001b[0m\u001b[0mkwargs\u001b[0m\u001b[0;34m)\u001b[0m\u001b[0;34m\u001b[0m\u001b[0;34m\u001b[0m\u001b[0m\n\u001b[0m\u001b[1;32m   1362\u001b[0m \u001b[0;34m\u001b[0m\u001b[0m\n\u001b[1;32m   1363\u001b[0m         \u001b[0mbound\u001b[0m \u001b[0;34m=\u001b[0m \u001b[0mnew_sig\u001b[0m\u001b[0;34m.\u001b[0m\u001b[0mbind\u001b[0m\u001b[0;34m(\u001b[0m\u001b[0max\u001b[0m\u001b[0;34m,\u001b[0m \u001b[0;34m*\u001b[0m\u001b[0margs\u001b[0m\u001b[0;34m,\u001b[0m \u001b[0;34m**\u001b[0m\u001b[0mkwargs\u001b[0m\u001b[0;34m)\u001b[0m\u001b[0;34m\u001b[0m\u001b[0;34m\u001b[0m\u001b[0m\n",
      "\u001b[0;32m~/opt/anaconda3/lib/python3.9/site-packages/matplotlib/axes/_axes.py\u001b[0m in \u001b[0;36mhist\u001b[0;34m(self, x, bins, range, density, weights, cumulative, bottom, histtype, align, orientation, rwidth, log, color, label, stacked, **kwargs)\u001b[0m\n\u001b[1;32m   6909\u001b[0m             \u001b[0;32mif\u001b[0m \u001b[0mpatch\u001b[0m\u001b[0;34m:\u001b[0m\u001b[0;34m\u001b[0m\u001b[0;34m\u001b[0m\u001b[0m\n\u001b[1;32m   6910\u001b[0m                 \u001b[0mp\u001b[0m \u001b[0;34m=\u001b[0m \u001b[0mpatch\u001b[0m\u001b[0;34m[\u001b[0m\u001b[0;36m0\u001b[0m\u001b[0;34m]\u001b[0m\u001b[0;34m\u001b[0m\u001b[0;34m\u001b[0m\u001b[0m\n\u001b[0;32m-> 6911\u001b[0;31m                 \u001b[0mp\u001b[0m\u001b[0;34m.\u001b[0m\u001b[0mupdate\u001b[0m\u001b[0;34m(\u001b[0m\u001b[0mkwargs\u001b[0m\u001b[0;34m)\u001b[0m\u001b[0;34m\u001b[0m\u001b[0;34m\u001b[0m\u001b[0m\n\u001b[0m\u001b[1;32m   6912\u001b[0m                 \u001b[0;32mif\u001b[0m \u001b[0mlbl\u001b[0m \u001b[0;32mis\u001b[0m \u001b[0;32mnot\u001b[0m \u001b[0;32mNone\u001b[0m\u001b[0;34m:\u001b[0m\u001b[0;34m\u001b[0m\u001b[0;34m\u001b[0m\u001b[0m\n\u001b[1;32m   6913\u001b[0m                     \u001b[0mp\u001b[0m\u001b[0;34m.\u001b[0m\u001b[0mset_label\u001b[0m\u001b[0;34m(\u001b[0m\u001b[0mlbl\u001b[0m\u001b[0;34m)\u001b[0m\u001b[0;34m\u001b[0m\u001b[0;34m\u001b[0m\u001b[0m\n",
      "\u001b[0;32m~/opt/anaconda3/lib/python3.9/site-packages/matplotlib/artist.py\u001b[0m in \u001b[0;36mupdate\u001b[0;34m(self, props)\u001b[0m\n\u001b[1;32m   1060\u001b[0m                     \u001b[0mfunc\u001b[0m \u001b[0;34m=\u001b[0m \u001b[0mgetattr\u001b[0m\u001b[0;34m(\u001b[0m\u001b[0mself\u001b[0m\u001b[0;34m,\u001b[0m \u001b[0;34mf\"set_{k}\"\u001b[0m\u001b[0;34m,\u001b[0m \u001b[0;32mNone\u001b[0m\u001b[0;34m)\u001b[0m\u001b[0;34m\u001b[0m\u001b[0;34m\u001b[0m\u001b[0m\n\u001b[1;32m   1061\u001b[0m                     \u001b[0;32mif\u001b[0m \u001b[0;32mnot\u001b[0m \u001b[0mcallable\u001b[0m\u001b[0;34m(\u001b[0m\u001b[0mfunc\u001b[0m\u001b[0;34m)\u001b[0m\u001b[0;34m:\u001b[0m\u001b[0;34m\u001b[0m\u001b[0;34m\u001b[0m\u001b[0m\n\u001b[0;32m-> 1062\u001b[0;31m                         raise AttributeError(f\"{type(self).__name__!r} object \"\n\u001b[0m\u001b[1;32m   1063\u001b[0m                                              f\"has no property {k!r}\")\n\u001b[1;32m   1064\u001b[0m                     \u001b[0mret\u001b[0m\u001b[0;34m.\u001b[0m\u001b[0mappend\u001b[0m\u001b[0;34m(\u001b[0m\u001b[0mfunc\u001b[0m\u001b[0;34m(\u001b[0m\u001b[0mv\u001b[0m\u001b[0;34m)\u001b[0m\u001b[0;34m)\u001b[0m\u001b[0;34m\u001b[0m\u001b[0;34m\u001b[0m\u001b[0m\n",
      "\u001b[0;31mAttributeError\u001b[0m: 'Rectangle' object has no property 'normed'"
     ]
    },
    {
     "data": {
      "image/png": "[encoded data removed]",
      "text/plain": [
       "<Figure size 432x288 with 1 Axes>"
      ]
     },
     "metadata": {
      "needs_background": "light"
     },
     "output_type": "display_data"
    }
   ],
   "source": [
    "fig = plt.figure()                                                               \n",
    "ax = fig.add_subplot(1,1,1)                                                      \n",
    "\n",
    "ax.hist(list1, bins=50, normed=True, label=\"data\")\n",
    "ax.legend(loc='best')"
   ]
  },
  {
   "cell_type": "markdown",
   "id": "6c7d8ff2",
   "metadata": {},
   "source": [
    "### Normalize the data into the range --> [1-3]"
   ]
  },
  {
   "cell_type": "code",
   "execution_count": null,
   "id": "8ab17de2",
   "metadata": {},
   "outputs": [],
   "source": [
    "\n",
    "\n",
    "\n",
    "print('Original List:',list)\n",
    "xmin = min(list) \n",
    "xmax=max(list)\n",
    "for i, x in enumerate(list):\n",
    "    list[i] = (x-xmin) / (xmax-xmin)\n",
    "print('Normalized List:',list)"
   ]
  },
  {
   "cell_type": "code",
   "execution_count": null,
   "id": "9386cfcb",
   "metadata": {},
   "outputs": [],
   "source": [
    "xmin = min(df['Pregnancies'])\n",
    "xmax = max(df['Pregnancies'])"
   ]
  },
  {
   "cell_type": "code",
   "execution_count": null,
   "id": "f96d28d7",
   "metadata": {},
   "outputs": [],
   "source": [
    "print(xmin)\n",
    "print(xmax)"
   ]
  },
  {
   "cell_type": "code",
   "execution_count": null,
   "id": "ad91c30d",
   "metadata": {},
   "outputs": [],
   "source": [
    "maxi = max(df['Pregnancies'])\n",
    "mini  = min(df['Pregnancies'])\n",
    "list1  = []\n",
    "list2 = []\n",
    "\n",
    "for i in df['Pregnancies']:\n",
    "    list1.append( (i-mini) / (maxi-mini ) )\n",
    "    list2.append( ((i-mini) / (maxi-mini )) * 3)"
   ]
  },
  {
   "cell_type": "code",
   "execution_count": null,
   "id": "e8ac1b11",
   "metadata": {},
   "outputs": [],
   "source": [
    "list1 = [6,4,3,2,1]\n",
    "mini  = 1\n",
    "maxi = 6\n",
    "\n"
   ]
  },
  {
   "cell_type": "code",
   "execution_count": null,
   "id": "49458871",
   "metadata": {},
   "outputs": [],
   "source": [
    "for i in list1:\n",
    "    print(   ( ( (i - mini) / (maxi-mini) )  * 2 ) + mini  )"
   ]
  },
  {
   "cell_type": "code",
   "execution_count": null,
   "id": "42bf1be6",
   "metadata": {},
   "outputs": [],
   "source": [
    "import chart_studio.plotly as py\n",
    "import plotly.graph_objs as go\n",
    "import plotly.tools as tools\n",
    "from plotly.tools import FigureFactory as FF\n",
    "from plotly.subplots import make_subplots\n",
    "\n",
    "import numpy as np\n",
    "import pandas as pd\n",
    "import scipy\n"
   ]
  },
  {
   "cell_type": "code",
   "execution_count": null,
   "id": "e6b2be64",
   "metadata": {},
   "outputs": [],
   "source": [
    "apple_data = pd.read_csv('https://raw.githubusercontent.com/plotly/datasets/master/2014_apple_stock.csv')\n",
    "df = apple_data[0:10]"
   ]
  },
  {
   "cell_type": "code",
   "execution_count": null,
   "id": "e27f5c53",
   "metadata": {},
   "outputs": [],
   "source": [
    "data = apple_data['AAPL_y']\n",
    "data.head()"
   ]
  },
  {
   "cell_type": "code",
   "execution_count": null,
   "id": "527dd27a",
   "metadata": {},
   "outputs": [],
   "source": [
    "data_norm_to_0_1 = [number/np.linalg.norm(data) for number in data]"
   ]
  },
  {
   "cell_type": "code",
   "execution_count": null,
   "id": "dfa95f90",
   "metadata": {},
   "outputs": [],
   "source": [
    "import plotly.express as px\n",
    "\n",
    "df = px.data.tips()\n",
    "  \n",
    "fig = px.histogram(df, x=\"total_bill\", \n",
    "                   histnorm='percent', \n",
    "                   nbins = 10)\n",
    "fig.show()"
   ]
  },
  {
   "cell_type": "code",
   "execution_count": null,
   "id": "d2783978",
   "metadata": {},
   "outputs": [],
   "source": []
  },
  {
   "cell_type": "code",
   "execution_count": null,
   "id": "0939da63",
   "metadata": {},
   "outputs": [],
   "source": [
    "df"
   ]
  },
  {
   "cell_type": "code",
   "execution_count": null,
   "id": "6be2d059",
   "metadata": {},
   "outputs": [],
   "source": [
    "data_norm_to_0_1 = [number/np.linalg.norm(data) for number in data]\n",
    "\n",
    "trace1 = go.Histogram(\n",
    "    x=data,\n",
    "    opacity=0.75,\n",
    "    name='data',\n",
    ")\n",
    "\n",
    "trace2 = go.Histogram(\n",
    "    x=data_norm_to_0_1,\n",
    "    opacity=0.75,\n",
    "    name='normalized to [0,1]',\n",
    ")\n",
    "\n",
    "fig = make_subplots(rows=2, cols=1)\n",
    "\n",
    "fig.append_trace(trace1, 1, 1)\n",
    "fig.append_trace(trace2, 2, 1)\n",
    "\n",
    "fig['layout'].update(height=600, width=800, title='Normalize to [0,1]')\n",
    "py.iplot(fig, filename='apple-data-normalize-0-1')"
   ]
  },
  {
   "cell_type": "code",
   "execution_count": null,
   "id": "80b60916",
   "metadata": {},
   "outputs": [],
   "source": []
  },
  {
   "cell_type": "code",
   "execution_count": null,
   "id": "d648b64d",
   "metadata": {},
   "outputs": [],
   "source": []
  }
 ],
 "metadata": {
  "kernelspec": {
   "display_name": "Python 3.9.7 ('base')",
   "language": "python",
   "name": "python397jvsc74a57bd0b7a2a0b4f94735ea31e77398a02d224ee82f8658043a15390cdd4e6a2ed959b7"
  },
  "language_info": {
   "codemirror_mode": {
    "name": "ipython",
    "version": 3
   },
   "file_extension": ".py",
   "mimetype": "text/x-python",
   "name": "python",
   "nbconvert_exporter": "python",
   "pygments_lexer": "ipython3",
   "version": "3.9.7"
  }
 },
 "nbformat": 4,
 "nbformat_minor": 5
}
